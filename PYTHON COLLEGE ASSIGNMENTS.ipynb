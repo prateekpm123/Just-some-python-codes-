{
 "cells": [
  {
   "cell_type": "code",
   "execution_count": 11,
   "metadata": {},
   "outputs": [
    {
     "name": "stdout",
     "output_type": "stream",
     "text": [
      "1.To convert kilo to miles enter 1 \n",
      " 2.To covert celsius to fahrenheit enter 21\n",
      "Enter kilometer1\n",
      "The number of miles for respective 1 kilometer is 0.6213711922\n"
     ]
    }
   ],
   "source": [
    "# PYTHON ASSIGNMENT 1\n",
    "# SUB QUES 2\n",
    "\n",
    "# COVERSION OF KILOMETERS TO METERS\n",
    "\n",
    "\n",
    "choose = int(input(\"1.To convert kilo to miles enter 1 \\n 2.To covert celsius to fahrenheit enter 2\"))\n",
    "\n",
    "\n",
    "if choose==1:\n",
    "    kilo =int(input('Enter kilometer'))\n",
    "    miles = kilo*0.6213711922\n",
    "    print(\"The number of miles for respective \"+str(kilo)+\" kilometer is\",miles)\n",
    "\n",
    "elif choose==2:\n",
    "    cel = int(input(\"Enter the degree celsius\"))\n",
    "    fara = (cel*(9/5))+32\n",
    "    print(\"Degree fahrenheit for respective\"+ str(cel)+\"degree celsius is\",fara)\n",
    "\n",
    "else:\n",
    "    print(\"invalid input / number\")\n"
   ]
  },
  {
   "cell_type": "code",
   "execution_count": null,
   "metadata": {},
   "outputs": [],
   "source": []
  },
  {
   "cell_type": "code",
   "execution_count": 15,
   "metadata": {},
   "outputs": [
    {
     "name": "stdout",
     "output_type": "stream",
     "text": [
      "Enter the 1st value to be swapped1\n",
      "Enter the 2nd value to be swappped2\n",
      "the entered two numbers are 1 2 repectively\n",
      "The swapped values are 2 1 respectively\n"
     ]
    }
   ],
   "source": [
    "# assinment 1\n",
    "#sub ques 3\n",
    "\n",
    "# swap two variables\n",
    "\n",
    "a = input(\"Enter the 1st value to be swapped\")\n",
    "b = input(\"Enter the 2nd value to be swappped\")\n",
    "\n",
    "print(\"The entered two numbers are\",a,b ,\"repectively\")\n",
    "c=a\n",
    "a=b\n",
    "b=c\n",
    "print('The swapped values are',a,b,'respectively')\n"
   ]
  },
  {
   "cell_type": "code",
   "execution_count": 21,
   "metadata": {},
   "outputs": [
    {
     "name": "stdout",
     "output_type": "stream",
     "text": [
      "Enter the number for which you want the tables3\n",
      "The table of 3 is as follows\n",
      "3 x 1 = 3\n",
      "3 x 2 = 6\n",
      "3 x 3 = 9\n",
      "3 x 4 = 12\n",
      "3 x 5 = 15\n",
      "3 x 6 = 18\n",
      "3 x 7 = 21\n",
      "3 x 8 = 24\n",
      "3 x 9 = 27\n",
      "3 x 10 = 30\n"
     ]
    }
   ],
   "source": [
    "# assinment 1\n",
    "# sub ques 4\n",
    "\n",
    "# display the multiplication table\n",
    "\n",
    "a = int(input(\"Enter the number for which you want the tables\"))\n",
    "print(\"The table of\",a,\"is as follows\")\n",
    "\n",
    "for i in range(1,11):\n",
    "    print(a,\"x\",i,\"=\",a*i)\n"
   ]
  },
  {
   "cell_type": "code",
   "execution_count": 2,
   "metadata": {},
   "outputs": [
    {
     "name": "stdout",
     "output_type": "stream",
     "text": [
      "Please Enter Your Own String : a s d f \n",
      "Total Number of Vowels in this String =  1\n",
      "Total Number of Consonants in this String =  7\n"
     ]
    }
   ],
   "source": [
    "# Python Program to Count Vowels and Consonants in a String\n",
    "\n",
    "str1 = input(\"Please Enter Your Own String : \")\n",
    "vowels = 0\n",
    "consonants = 0\n",
    "str1.lower()\n",
    "\n",
    "for i in str1:\n",
    "    if(i == 'a' or i == 'e' or i == 'i' or i == 'o' or i == 'u'):\n",
    "        vowels = vowels + 1\n",
    "    else:\n",
    "        consonants = consonants + 1\n",
    " \n",
    "print(\"Total Number of Vowels in this String = \", vowels)\n",
    "print(\"Total Number of Consonants in this String = \", consonants)"
   ]
  },
  {
   "cell_type": "code",
   "execution_count": 8,
   "metadata": {},
   "outputs": [
    {
     "name": "stdout",
     "output_type": "stream",
     "text": [
      ";\n",
      "l\n",
      "k\n",
      "a\n",
      "s\n",
      "j\n",
      "d\n",
      "f\n",
      "j\n",
      "a\n",
      "l\n",
      ";\n",
      "s\n",
      "j\n",
      "s\n",
      "a\n"
     ]
    }
   ],
   "source": [
    "a =';lkasjdfjal;sjsa'\n",
    "for i in a:\n",
    "    print(i)"
   ]
  },
  {
   "cell_type": "code",
   "execution_count": 13,
   "metadata": {},
   "outputs": [
    {
     "name": "stdout",
     "output_type": "stream",
     "text": [
      "Enter the number of elements you wannna enter5\n",
      "Enter the elements you want\n",
      "4\n",
      "Enter the elements you want\n",
      "1\n",
      "Enter the elements you want\n",
      "3\n",
      "Enter the elements you want\n",
      "2\n",
      "Enter the elements you want\n",
      "23\n",
      "The arrary is  array('i', [4, 1, 3, 2, 23])\n",
      "The sorted list is:\n",
      "1\n",
      "2\n",
      "3\n",
      "4\n",
      "23\n"
     ]
    }
   ],
   "source": [
    "# QUESTION NUMBER 6\n",
    "# PYTHON PROGRAM TO DEMONSTRATE SORTING ALGORITHM USING LIST OR ARRAYS\n",
    "\n",
    "from array import * \n",
    "\n",
    "x = array('i',[])\n",
    "n = int(input(\"Enter the number of elements you wannna enter\"))\n",
    "\n",
    "for i in range(n):\n",
    "    print('Enter the elements you want')\n",
    "    x.append(int(input()))\n",
    "\n",
    "print(\"The arrary is \",x)\n",
    "\n",
    "\n",
    "quickSort(x,0,n-1)\n",
    "\n",
    "\n",
    "# Python program for implementation of Quicksort Sort \n",
    "\n",
    "# This function takes last element as pivot, places \n",
    "# the pivot element at its correct position in sorted \n",
    "# array, and places all smaller (smaller than pivot) \n",
    "# to left of pivot and all greater elements to right \n",
    "# of pivot \n",
    "def partition(arr,low,high): \n",
    "    i = ( low-1 )        # index of smaller element \n",
    "    pivot = arr[high]    # pivot \n",
    "\n",
    "    for j in range(low , high): \n",
    "\n",
    "        # If current element is smaller than or \n",
    "        # equal to pivot \n",
    "        if arr[j] <= pivot: \n",
    "    \n",
    "            # increment index of smaller element \n",
    "            i = i+1\n",
    "            arr[i],arr[j] = arr[j],arr[i] \n",
    "\n",
    "    arr[i+1],arr[high] = arr[high],arr[i+1] \n",
    "    return ( i+1 ) \n",
    "\n",
    "# The main function that implements QuickSort \n",
    "# arr[] --> Array to be sorted, \n",
    "# low --> Starting index, \n",
    "# high --> Ending index \n",
    "\n",
    "# Function to do Quick sort \n",
    "def quickSort(arr,low,high): \n",
    "    if low < high: \n",
    "\n",
    "        # pi is partitioning index, arr[p] is now \n",
    "        # at right place \n",
    "        pi = partition(arr,low,high) \n",
    "\n",
    "        # Separately sort elements before \n",
    "        # partition and after partition \n",
    "        quickSort(arr, low, pi-1) \n",
    "        quickSort(arr, pi+1, high) \n",
    "\n",
    "        \n",
    "# Printing the sorted elements\n",
    "\n",
    "print(\"The sorted list is:\")\n",
    "for i in x:\n",
    "    print(i)\n",
    "\n",
    "\n",
    "\n",
    "\n",
    "\n",
    "\n",
    "\n",
    "\n",
    "\n",
    "\n",
    "\n",
    "\n",
    "\n",
    "\n",
    "\n",
    "\n",
    "\n"
   ]
  },
  {
   "cell_type": "code",
   "execution_count": 2,
   "metadata": {},
   "outputs": [
    {
     "name": "stdout",
     "output_type": "stream",
     "text": [
      "1\n",
      "334\n",
      "43\n"
     ]
    }
   ],
   "source": [
    "import array\n",
    "\n",
    "a = array.array('i',[1,334,43])\n",
    "for i in a:\n",
    "    print(i)"
   ]
  },
  {
   "cell_type": "code",
   "execution_count": 18,
   "metadata": {},
   "outputs": [
    {
     "name": "stdout",
     "output_type": "stream",
     "text": [
      "Enter the first number12\n",
      "Enter the second number16\n"
     ]
    },
    {
     "data": {
      "text/plain": [
       "4"
      ]
     },
     "execution_count": 18,
     "metadata": {},
     "output_type": "execute_result"
    }
   ],
   "source": [
    "# PYTHON PROGRAM TO FIND GCD AND HCF \n",
    "\n",
    "\n",
    "def computeHCF(x, y):\n",
    "\n",
    "   # This function implements the Euclidian algorithm to find H.C.F. of two numbers\n",
    "   while(y):\n",
    "       x, y = y, x % y\n",
    "\n",
    "   return x\n",
    "\n",
    "a = int(input(\"Enter the first number\"))\n",
    "b = int(input(\"Enter the second number\"))\n",
    "\n",
    "computeHCF(a,b)"
   ]
  },
  {
   "cell_type": "code",
   "execution_count": 20,
   "metadata": {},
   "outputs": [
    {
     "name": "stdout",
     "output_type": "stream",
     "text": [
      "Enter the sum of how many numbers you want:3\n",
      "Enter the numbers1\n",
      "Enter the numbers2\n",
      "Enter the numbers3\n",
      "1\n",
      "2\n",
      "3\n"
     ]
    }
   ],
   "source": [
    "# PYHTON PROGRAM TO FIND THE SUM OF NATURAL NUMBERS USIING RECURSSION\n",
    "\n",
    "n = int(input('Enter the sum of how many numbers you want:'))\n",
    "    \n",
    "\n",
    "def sum(sum1):\n",
    "    sum()\n",
    "    return sum\n",
    "\n",
    "    \n",
    "\n",
    "\n",
    "\n",
    "\n",
    "\n",
    "\n",
    "\n",
    "\n",
    "\n",
    "\n",
    "\n",
    "\n",
    "\n",
    "\n",
    "\n",
    "\n",
    "\n",
    "\n",
    "\n",
    "\n",
    "\n",
    "\n",
    "\n",
    "\n"
   ]
  },
  {
   "cell_type": "code",
   "execution_count": 22,
   "metadata": {},
   "outputs": [
    {
     "name": "stdout",
     "output_type": "stream",
     "text": [
      "Enter a number: 4\n",
      "The sum is 10\n"
     ]
    }
   ],
   "source": [
    "# Python program to find the sum of natural numbers up to n using recursive function\n",
    "\n",
    "def recur_sum(n):\n",
    "   \"\"\"Function to return the sum\n",
    "   of natural numbers using recursion\"\"\"\n",
    "   if n <= 1:\n",
    "       return n\n",
    "   else:\n",
    "       return n + recur_sum(n-1)\n",
    "\n",
    "# change this value for a different result\n",
    "#num = 16\n",
    "\n",
    "# uncomment to take input from the user\n",
    "num = int(input(\"Enter a number: \"))\n",
    "\n",
    "if num < 0:\n",
    "   print(\"Enter a positive number\")\n",
    "else:\n",
    "   print(\"The sum is\",recur_sum(num))"
   ]
  },
  {
   "cell_type": "code",
   "execution_count": null,
   "metadata": {},
   "outputs": [],
   "source": []
  }
 ],
 "metadata": {
  "kernelspec": {
   "display_name": "Python 3",
   "language": "python",
   "name": "python3"
  },
  "language_info": {
   "codemirror_mode": {
    "name": "ipython",
    "version": 3
   },
   "file_extension": ".py",
   "mimetype": "text/x-python",
   "name": "python",
   "nbconvert_exporter": "python",
   "pygments_lexer": "ipython3",
   "version": "3.7.1"
  }
 },
 "nbformat": 4,
 "nbformat_minor": 2
}
