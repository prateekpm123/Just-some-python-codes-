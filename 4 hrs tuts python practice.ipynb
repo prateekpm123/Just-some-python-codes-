{
 "cells": [
  {
   "cell_type": "code",
   "execution_count": 1,
   "metadata": {},
   "outputs": [
    {
     "name": "stdout",
     "output_type": "stream",
     "text": [
      "hello world\n",
      "[' mike', 'stacy', 'carol']\n",
      "this is a copy\n",
      "[' mike', 'stacy', 'carol']\n",
      "this is origional\n"
     ]
    }
   ],
   "source": [
    "# LISTS IN PYTHON\n",
    "\n",
    "print(\"hello world\")\n",
    "friendds = [\" mike\",\n",
    "            \"stacy\",\n",
    "            \"carol\"]\n",
    "friend  = friendds.copy();\n",
    "\n",
    "print(friend)\n",
    "print(\"this is a copy\"  )\n",
    "print(friendds)\n",
    "print(\"this is origional\")"
   ]
  },
  {
   "cell_type": "code",
   "execution_count": 5,
   "metadata": {},
   "outputs": [
    {
     "name": "stdout",
     "output_type": "stream",
     "text": [
      "affe \n"
     ]
    }
   ],
   "source": [
    "# STRINGS AND DIFFERENT FUNCTIONS OF STRING\n",
    "\n",
    "string = \"Giraffe academy\"\n",
    "\n",
    "print(string[3:8])"
   ]
  },
  {
   "cell_type": "code",
   "execution_count": 13,
   "metadata": {},
   "outputs": [
    {
     "name": "stdout",
     "output_type": "stream",
     "text": [
      "['Gi', 'ra', 'ff', 'e ', 'ac', 'ad', 'em']\n"
     ]
    }
   ],
   "source": [
    "# this is the code to create a pair of words of a string and store each pair in a list one by one\n",
    "\n",
    "newstring = []\n",
    "stringlen = len(string)\n",
    "stringlen = stringlen/2\n",
    "a =0\n",
    "b =2\n",
    "inc = 0\n",
    "for i in range(int(stringlen)):\n",
    "    newstring.insert(inc,string[a:b])\n",
    "    a = b\n",
    "    b = b + 2\n",
    "    inc +=1\n",
    "    \n",
    "print(newstring)"
   ]
  },
  {
   "cell_type": "code",
   "execution_count": 36,
   "metadata": {},
   "outputs": [
    {
     "name": "stdout",
     "output_type": "stream",
     "text": [
      "Gi\n",
      "ra\n",
      "ff\n",
      "e \n",
      "ac\n",
      "ad\n",
      "em\n",
      "[['G', 'i'], ['r', 'a'], ['f', 'f'], ['e', ' '], ['a', 'c'], ['a', 'd'], ['e', 'm']]\n",
      "c\n"
     ]
    }
   ],
   "source": [
    "# this cell is try and iterate different ways to iterate a list\n",
    "\n",
    "# this creates a list of list\n",
    "\n",
    "for i in newstring:\n",
    "    print(i)\n",
    "    \n",
    "newList = [list(i) for i in newstring]\n",
    "print(newList)\n",
    "\n",
    "# this is how we can iterate over a list inside a list \n",
    "# if it shows that array index is out of range then that means, the index that we are putting does not have any element assigned to it \n",
    "# for ex: you have 3 elements in an array and you are putting index value 4, but for index value 4 there is no element\n",
    "print(newList[4][1])"
   ]
  },
  {
   "cell_type": "code",
   "execution_count": 3,
   "metadata": {},
   "outputs": [
    {
     "name": "stdout",
     "output_type": "stream",
     "text": [
      "True\n"
     ]
    }
   ],
   "source": [
    "string = \" Giraffe academy\"\n",
    "\n",
    "print(string.upper().isupper())\n"
   ]
  },
  {
   "cell_type": "code",
   "execution_count": 4,
   "metadata": {},
   "outputs": [
    {
     "name": "stdout",
     "output_type": "stream",
     "text": [
      "16\n"
     ]
    }
   ],
   "source": [
    "string = \" Giraffe academy\"\n",
    "\n",
    "print(len(string))"
   ]
  },
  {
   "cell_type": "code",
   "execution_count": 5,
   "metadata": {},
   "outputs": [
    {
     "name": "stdout",
     "output_type": "stream",
     "text": [
      "1\n"
     ]
    }
   ],
   "source": [
    "string = \" Giraffe academy\"\n",
    "\n",
    "print(string.index(\"G\"))\n"
   ]
  },
  {
   "cell_type": "code",
   "execution_count": 6,
   "metadata": {},
   "outputs": [
    {
     "name": "stdout",
     "output_type": "stream",
     "text": [
      " Maaffe academy\n"
     ]
    }
   ],
   "source": [
    "string = \" Giraffe academy\"\n",
    "\n",
    "print(string.replace(\"Gir\" , \"Ma\"))\n"
   ]
  },
  {
   "cell_type": "code",
   "execution_count": 10,
   "metadata": {},
   "outputs": [
    {
     "name": "stdout",
     "output_type": "stream",
     "text": [
      " Enter a name:435\n",
      "HELLO 435\n"
     ]
    }
   ],
   "source": [
    "name = input(\" Enter a name:\")\n",
    "print(\"HELLO \" + name)"
   ]
  },
  {
   "cell_type": "code",
   "execution_count": 8,
   "metadata": {
    "scrolled": true
   },
   "outputs": [
    {
     "name": "stdout",
     "output_type": "stream",
     "text": [
      "enter the name of the person you want:poo\n",
      "The name of the person is :poo\n",
      "Enter the age of the person:30\n",
      "The age of poo  is :30\n"
     ]
    }
   ],
   "source": [
    "# HOW TO TAKE INPUT FROM THE USER\n",
    "\n",
    "name = input(\"enter the name of the person you want:\")\n",
    "\n",
    "print(\"The name of the person is :\"  +name)\n",
    "age = input(\"Enter the age of the person:\")\n",
    "print(\"The age of \" + name +\"  is :\" + age)  "
   ]
  },
  {
   "cell_type": "code",
   "execution_count": 9,
   "metadata": {},
   "outputs": [
    {
     "name": "stdout",
     "output_type": "stream",
     "text": [
      "Enter a number34252445234312\n",
      "Enter another number24536243514532345243\n",
      "The result is24536277766977579555\n"
     ]
    }
   ],
   "source": [
    "# HOW TO TAKE AN INPUT FROM THE USER\n",
    "\n",
    "num1 = input(\"Enter a number\")\n",
    "num2 = input(\"Enter another number\")\n",
    "\n",
    "result = int(num1) + int(num2)\n",
    "print(\"The result is\" + str(result))\n",
    "\n",
    "\n"
   ]
  },
  {
   "cell_type": "code",
   "execution_count": 10,
   "metadata": {},
   "outputs": [
    {
     "name": "stdout",
     "output_type": "stream",
     "text": [
      "1\n",
      "[1, 11, 12, 14, 15]\n",
      "['aditya', 'karan', 'kiran ', 'krishna', 'mohan ', 'prateek ', 'raj']\n"
     ]
    }
   ],
   "source": [
    "#LISTS AND THEIR VARIOUS FUNCTION\n",
    "\n",
    "friends  = [\"kiran \", \"raj\", \"mohan \", \"prateek \", \"karan\", \"krishna\"]\n",
    "LUCKY = [11,12,1,14,15]\n",
    "\n",
    "friends.append(\"aditya\")\n",
    "\n",
    "print(friends.index(\"raj\"))\n",
    "friends.sort()\n",
    "LUCKY.sort()\n",
    "\n",
    "print(LUCKY)\n",
    "print(friends)\n",
    "\n",
    "\n",
    "\n"
   ]
  },
  {
   "cell_type": "code",
   "execution_count": 11,
   "metadata": {},
   "outputs": [
    {
     "name": "stdout",
     "output_type": "stream",
     "text": [
      "[34.45, (1, 4)]\n"
     ]
    }
   ],
   "source": [
    "# TUPLES\n",
    " \n",
    "TUPLES = [(4,5),(34.45),(1,4)]\n",
    "\n",
    "print(TUPLES[1:])"
   ]
  },
  {
   "cell_type": "code",
   "execution_count": 12,
   "metadata": {},
   "outputs": [
    {
     "name": "stdout",
     "output_type": "stream",
     "text": [
      "sam\n",
      "hi\n",
      "jay\n"
     ]
    }
   ],
   "source": [
    "# HOW TO DEFINE A FUNCTION\n",
    "\n",
    "def functions():\n",
    "    print('hi')\n",
    "   \n",
    "print(\"sam\")\n",
    "\n",
    "functions()\n",
    "print(\"jay\")"
   ]
  },
  {
   "cell_type": "code",
   "execution_count": 11,
   "metadata": {},
   "outputs": [
    {
     "name": "stdout",
     "output_type": "stream",
     "text": [
      "Enter the name of the user:YT\n",
      "hi  YT\n"
     ]
    }
   ],
   "source": [
    "# HOW TO DEFINE A FUNCTION\n",
    "\n",
    "\n",
    "\n",
    "def functions():\n",
    "    name = input(\"Enter the name of the user:\")\n",
    "    print(\"hi  \" + str(name))\n",
    "\n",
    "\n",
    "functions():\n",
    "    print(\"the main\")"
   ]
  },
  {
   "cell_type": "code",
   "execution_count": 14,
   "metadata": {},
   "outputs": [
    {
     "name": "stdout",
     "output_type": "stream",
     "text": [
      "Enter the name of the user:XAKING\n",
      "hi XAKING\n"
     ]
    }
   ],
   "source": [
    "def functions(name):\n",
    "\n",
    "    print(\"hi \" + str(name))\n",
    "\n",
    "name = input(\"Enter the name of the user:\")\n",
    "functions(name)\n"
   ]
  },
  {
   "cell_type": "code",
   "execution_count": 2,
   "metadata": {},
   "outputs": [
    {
     "name": "stdout",
     "output_type": "stream",
     "text": [
      "3628800\n"
     ]
    }
   ],
   "source": [
    "# HOW TO DEFINE A FUNCTION\n",
    "\n",
    "\n",
    "def factorial(n):\n",
    "\n",
    "\n",
    "    if(n > 1):\n",
    "        return n * factorial(n - 1);\n",
    "    else:\n",
    "        return 1;\n",
    "\n",
    "\n",
    "\n",
    "print(factorial(10))"
   ]
  },
  {
   "cell_type": "code",
   "execution_count": 16,
   "metadata": {},
   "outputs": [
    {
     "name": "stdout",
     "output_type": "stream",
     "text": [
      "You are a male but not tall\n"
     ]
    }
   ],
   "source": [
    "# HOW TO USE IF ELSE\n",
    "\n",
    "ismale = True\n",
    "istall = False\n",
    "\n",
    "\n",
    "if ismale and  istall:\n",
    "    print(\"You are a male\")\n",
    "    \n",
    "elif ismale and not(istall):\n",
    "     print(\"You are a male but not tall\")\n",
    "        \n",
    "elif not(ismale) and istall:\n",
    "     print(\"You are a male but not tall\")\n",
    "else:\n",
    "    print(\" You are neither male nor tall\")"
   ]
  },
  {
   "cell_type": "code",
   "execution_count": 17,
   "metadata": {},
   "outputs": [
    {
     "name": "stdout",
     "output_type": "stream",
     "text": [
      "Divided by zero\n",
      "division by zero\n"
     ]
    }
   ],
   "source": [
    "\n",
    "# EXPLANATION  OF  TRY CATCH\n",
    "\n",
    "\n",
    "try:\n",
    "    a = 10/0\n",
    "    value = int(input(\"Enter the number:\"))\n",
    "    print(value)\n",
    "except ZeroDivisionError as e:\n",
    "    print(\"Divided by zero\")\n",
    "    print(e)\n",
    "except ValueError:\n",
    "    print(\"Input should be an integer\")\n"
   ]
  },
  {
   "cell_type": "code",
   "execution_count": 19,
   "metadata": {},
   "outputs": [
    {
     "name": "stdout",
     "output_type": "stream",
     "text": [
      "45\n"
     ]
    }
   ],
   "source": [
    "def maxNum(num1, num2, num3):\n",
    "    if num1>= num2 and num1>= 3 :\n",
    "        return num1\n",
    "    elif num2 >= num1 and num2 >= num3:\n",
    "        return num2\n",
    "    else :\n",
    "        return num3\n",
    "print(maxNum(34,45,23))     "
   ]
  },
  {
   "cell_type": "code",
   "execution_count": 3,
   "metadata": {},
   "outputs": [
    {
     "name": "stdout",
     "output_type": "stream",
     "text": [
      "Janurary\n"
     ]
    }
   ],
   "source": [
    "#DICTIONARIES IN PYTHON\n",
    "\n",
    "monthConversion = {\n",
    "    1 : \"Janurary\",\n",
    "    2 : \"Feburary\",\n",
    "    3 : \"March\",\n",
    "    4 : \"April\",\n",
    "    5 : \"May\",\n",
    "    6 : \"June\",\n",
    "    7 : \"July\",\n",
    "    8 : \"August\",\n",
    "    9: \"September\",\n",
    "    10 : \"October\",\n",
    "    11 : \"November\",\n",
    "    12: \"December\"\n",
    "}\n",
    "\n",
    "print(monthConversion[1])"
   ]
  },
  {
   "cell_type": "code",
   "execution_count": 4,
   "metadata": {},
   "outputs": [
    {
     "name": "stdout",
     "output_type": "stream",
     "text": [
      "5\n",
      "6\n",
      "7\n",
      "8\n",
      "9\n",
      "10\n",
      "Done with the while loop\n"
     ]
    }
   ],
   "source": [
    "# WHILE L0OPS\n",
    "\n",
    "i=5\n",
    "\n",
    "while i<=10:\n",
    "    print(i)\n",
    "    i += 1\n",
    "\n",
    "print(\"Done with the while loop\")\n"
   ]
  },
  {
   "cell_type": "code",
   "execution_count": 22,
   "metadata": {},
   "outputs": [
    {
     "name": "stdout",
     "output_type": "stream",
     "text": [
      "Enter guess:A;SLDKJF\n",
      "Enter guess:;LKASJDF\n",
      "Enter guess:giraffe\n",
      "YOU WIN\n"
     ]
    }
   ],
   "source": [
    "secret_word = \"giraffe\"\n",
    "guess = \"\"\n",
    "guess_count = 0\n",
    "guess_limit = 3\n",
    "out_of_guesses = False\n",
    "\n",
    "while guess != secret_word and not(out_of_guesses):\n",
    "    if guess_count < guess_limit:\n",
    "        guess = input(\"Enter guess:\")\n",
    "        guess_count +=1\n",
    "    else:\n",
    "        out_of_guesses = True\n",
    "        \n",
    "if out_of_guesses:\n",
    "    print(\"Out of guesses , YOU LOSE!\")\n",
    "else:\n",
    "    print(\"YOU WIN\")"
   ]
  },
  {
   "cell_type": "code",
   "execution_count": 23,
   "metadata": {},
   "outputs": [
    {
     "name": "stdout",
     "output_type": "stream",
     "text": [
      "0\n",
      "1\n"
     ]
    }
   ],
   "source": [
    "# FOR LOOP\n",
    "name = \"GIRAFFE ACADEMY\"\n",
    "\n",
    "for i in range(2,):\n",
    "    print(i)\n"
   ]
  },
  {
   "cell_type": "code",
   "execution_count": 34,
   "metadata": {},
   "outputs": [
    {
     "name": "stdout",
     "output_type": "stream",
     "text": [
      "G\n",
      "I\n",
      "R\n",
      "A\n",
      "F\n",
      "F\n",
      "E\n",
      " \n",
      "A\n",
      "C\n",
      "A\n",
      "D\n",
      "E\n",
      "M\n",
      "Y\n"
     ]
    }
   ],
   "source": [
    "# FOR LOOP\n",
    "name = \"GIRAFFE ACADEMY\"\n",
    "\n",
    "for i in name:\n",
    "    print(i)\n"
   ]
  },
  {
   "cell_type": "code",
   "execution_count": 1,
   "metadata": {},
   "outputs": [
    {
     "name": "stdout",
     "output_type": "stream",
     "text": [
      "[[1, 2, 3], [4, 5, 6], [7, 8, 9], [0]]\n",
      "[1, 2, 3]\n",
      "[4, 5, 6]\n",
      "[7, 8, 9]\n",
      "[0]\n"
     ]
    }
   ],
   "source": [
    "number_grid = [\n",
    "    [1,2,3],\n",
    "    [4,5,6],\n",
    "    [7,8,9],\n",
    "    [0]\n",
    "]\n",
    "\n",
    "print(number_grid[0:][0:])\n",
    "\n",
    "for row in number_grid:\n",
    "  #  for col in row:\n",
    "    print(row)"
   ]
  },
  {
   "cell_type": "code",
   "execution_count": 13,
   "metadata": {},
   "outputs": [
    {
     "name": "stdout",
     "output_type": "stream",
     "text": [
      "Enter a phrase:manner\n",
      "manner\n",
      "m--nn--r\n"
     ]
    }
   ],
   "source": [
    "# HOW TO BUILD A TRANSLATOR IN PYTHON\n",
    "\n",
    "def translate(phrase):\n",
    "    translation = \"\"\n",
    "    print(phrase)\n",
    "    for letter in phrase:\n",
    "        if letter.lower() in \"aeiou\":\n",
    "            if letter.isupper():\n",
    "                translation = translation + \"_\"\n",
    "            else:\n",
    "                translation = translation + \"--\"\n",
    "        \n",
    "        else:\n",
    "            translation = translation + letter\n",
    "    return translation\n",
    "    \n",
    "\n",
    "print(translate(input(\"Enter a phrase:\")))\n"
   ]
  },
  {
   "cell_type": "code",
   "execution_count": 6,
   "metadata": {
    "scrolled": true
   },
   "outputs": [
    {
     "name": "stdout",
     "output_type": "stream",
     "text": [
      "e\n",
      "E\n"
     ]
    }
   ],
   "source": [
    "letter = \"E\"\n",
    "\n",
    "print(letter.lower())\n",
    "letter.lower()\n",
    "print(letter)"
   ]
  },
  {
   "cell_type": "code",
   "execution_count": 51,
   "metadata": {},
   "outputs": [
    {
     "name": "stdout",
     "output_type": "stream",
     "text": [
      "2\n"
     ]
    }
   ],
   "source": [
    "'''\n",
    "KSAUDHFKSAJHFKJHADKJHL;KJHSADFLKHJSHLKJSDHKJDSFHKJDSFHKJDSFHKJDSF\n",
    "KJHSADKJHSDFLHKJSFAHLKJDSHKJDSFHKJ'''\n",
    "\n",
    "print(2)"
   ]
  },
  {
   "cell_type": "code",
   "execution_count": null,
   "metadata": {},
   "outputs": [],
   "source": [
    "# HOW TO READ FILES IN PYTHON\n",
    "# DO ALL THE EXCEAUTION PART OF THE CODE IN PYCHARM\n",
    "\n",
    "info = open( \"C:/Users/Prateek Manta/PycharmProjects/mypython/names\", \"r\")  # this wont run cuz the location of the file is not given\n",
    "\n",
    "print(info.readable())      # retuens a boolean value stating that the file is readable or not\n",
    "print(info.read())          # reads the entire file and prints it \n",
    "print(info.readline())      # prints the file line by line\n",
    "print(info.readlines())     # puts the lines into an array\n",
    "\n",
    "# PRINTING LINES USING A FOR LOOP\n",
    "\n",
    "for names in info.readlines():   \n",
    "    print(employee)\n",
    "\n",
    "info.close()"
   ]
  },
  {
   "cell_type": "code",
   "execution_count": null,
   "metadata": {},
   "outputs": [],
   "source": [
    "#  APPENDING THE FILE\n",
    "\n",
    "info = open( \"C:/Users/Prateek Manta/PycharmProjects/mypython/names\", \"a\")  # this wont run cuz the location of the file is not given\n",
    "\n",
    "info.write(\"\\n Hello mister how do you do\")\n",
    "info.write(\"\\n Mera naam ching ching ching baba ching\")\n",
    "\n",
    "info.close()\n"
   ]
  },
  {
   "cell_type": "code",
   "execution_count": 5,
   "metadata": {},
   "outputs": [],
   "source": [
    "# OVERRITING THE FILE ALSO CAN CREATE A NEW FILE\n",
    "# ALSO CAN CREAte  A NEW FILE\n",
    "\n",
    "info = open( \"C:/Users/Prateek Manta/PycharmProjects/mypython/names2.txt\", \"w\")  # this wont run cuz the location of the file is not given\n",
    "\n",
    "info.write(\"hello mister how to you do ooo hasena zulovali jane jahan khubsurat si aakhen jaisa iska inshan mai phil phil aee shama phir bhi hoo kaha\")\n",
    "\n",
    "info.close()\n"
   ]
  },
  {
   "cell_type": "code",
   "execution_count": 29,
   "metadata": {},
   "outputs": [
    {
     "name": "stdout",
     "output_type": "stream",
     "text": [
      "3\n"
     ]
    }
   ],
   "source": [
    "import random\n",
    "\n",
    " \n",
    "print(random.randrange(4))\n",
    "\n",
    "\n",
    "\n"
   ]
  },
  {
   "cell_type": "code",
   "execution_count": 13,
   "metadata": {},
   "outputs": [],
   "source": [
    "import random"
   ]
  },
  {
   "cell_type": "code",
   "execution_count": 30,
   "metadata": {},
   "outputs": [],
   "source": [
    "#CLASSES AND OBJECTS IN PYTHON\n",
    "\n",
    "\n",
    "class Student:\n",
    "    def __init__(self, name, major, gpa, is_on_probation):\n",
    "        self.name = name\n",
    "        self.major = major\n",
    "        self.gpa = gpa\n",
    "        self.is_on_probation = is_on_probation\n",
    "        \n",
    "    "
   ]
  },
  {
   "cell_type": "code",
   "execution_count": 32,
   "metadata": {},
   "outputs": [
    {
     "ename": "ModuleNotFoundError",
     "evalue": "No module named 'Student'",
     "output_type": "error",
     "traceback": [
      "\u001b[1;31m---------------------------------------------------------------------------\u001b[0m",
      "\u001b[1;31mModuleNotFoundError\u001b[0m                       Traceback (most recent call last)",
      "\u001b[1;32m<ipython-input-32-d2df9f17d018>\u001b[0m in \u001b[0;36m<module>\u001b[1;34m()\u001b[0m\n\u001b[1;32m----> 1\u001b[1;33m \u001b[1;32mfrom\u001b[0m \u001b[0mStudent\u001b[0m \u001b[1;32mimport\u001b[0m \u001b[0mStudent\u001b[0m\u001b[1;33m\u001b[0m\u001b[0m\n\u001b[0m\u001b[0;32m      2\u001b[0m \u001b[1;33m\u001b[0m\u001b[0m\n\u001b[0;32m      3\u001b[0m \u001b[0mstudent1\u001b[0m \u001b[1;33m=\u001b[0m \u001b[0mStudent\u001b[0m\u001b[1;33m(\u001b[0m\u001b[1;34m\"JIM\"\u001b[0m\u001b[1;33m,\u001b[0m\u001b[1;34m\"Business\"\u001b[0m\u001b[1;33m,\u001b[0m \u001b[1;36m3.1\u001b[0m\u001b[1;33m,\u001b[0m\u001b[1;32mFalse\u001b[0m\u001b[1;33m)\u001b[0m\u001b[1;33m\u001b[0m\u001b[0m\n\u001b[0;32m      4\u001b[0m \u001b[0mprint\u001b[0m\u001b[1;33m(\u001b[0m\u001b[0mstudent1\u001b[0m\u001b[1;33m.\u001b[0m\u001b[0mname\u001b[0m\u001b[1;33m)\u001b[0m\u001b[1;33m\u001b[0m\u001b[0m\n",
      "\u001b[1;31mModuleNotFoundError\u001b[0m: No module named 'Student'"
     ]
    }
   ],
   "source": [
    "from Student import Student\n",
    "\n",
    "student1 = Student(\"JIM\",\"Business\", 3.1,False)\n",
    "print(student1.name)"
   ]
  },
  {
   "cell_type": "code",
   "execution_count": 1,
   "metadata": {},
   "outputs": [
    {
     "ename": "ModuleNotFoundError",
     "evalue": "No module named 'app'",
     "output_type": "error",
     "traceback": [
      "\u001b[1;31m---------------------------------------------------------------------------\u001b[0m",
      "\u001b[1;31mModuleNotFoundError\u001b[0m                       Traceback (most recent call last)",
      "\u001b[1;32m<ipython-input-1-e7bf4e22cf1d>\u001b[0m in \u001b[0;36m<module>\u001b[1;34m()\u001b[0m\n\u001b[0;32m      2\u001b[0m \u001b[1;31m# RUN THIS CODE ONLY ON PYCHARM OKAY\u001b[0m\u001b[1;33m\u001b[0m\u001b[1;33m\u001b[0m\u001b[0m\n\u001b[0;32m      3\u001b[0m \u001b[1;33m\u001b[0m\u001b[0m\n\u001b[1;32m----> 4\u001b[1;33m \u001b[1;32mfrom\u001b[0m \u001b[0mapp\u001b[0m \u001b[1;32mimport\u001b[0m \u001b[0mQuestion\u001b[0m    \u001b[1;31m# CREATE A FILE FOR APP\u001b[0m\u001b[1;33m\u001b[0m\u001b[0m\n\u001b[0m\u001b[0;32m      5\u001b[0m \u001b[1;33m\u001b[0m\u001b[0m\n\u001b[0;32m      6\u001b[0m \u001b[1;31m# ALSO CREATE A FILE FOR THE CODE DOWN HERE ( WATCH THE 4 HR PYTHON VIDEO IF ANY DOUBT)\u001b[0m\u001b[1;33m\u001b[0m\u001b[1;33m\u001b[0m\u001b[0m\n",
      "\u001b[1;31mModuleNotFoundError\u001b[0m: No module named 'app'"
     ]
    }
   ],
   "source": [
    "# A QUIZ GAME USING CLASSES AND OBJECTS IN PYTHON\n",
    "# RUN THIS CODE ONLY ON PYCHARM OKAY\n",
    "\n",
    "from app import Question    # CREATE A FILE FOR APP\n",
    "\n",
    "# ALSO CREATE A FILE FOR THE CODE DOWN HERE ( WATCH THE 4 HR PYTHON VIDEO IF ANY DOUBT)\n",
    "\n",
    "questionPrompt = [\n",
    "    \"What color is the banana?\\n (a)Red \\n(b)Orange \\n(c)Yellow \\n\\n\",\n",
    "    \"What color is the mango?\\n (a)Green \\n(b)Mangenta \\n(c)Orange\\n\\n\",\n",
    "    \"What color is the apple?\\n (a)Red \\n(b)Blue \\n (c)Brown\\n\\n\"\n",
    "\n",
    "]\n",
    "\n",
    "questions =[\n",
    "    Question(questionPrompt[0], \"c\"),\n",
    "    Question(questionPrompt[1], \"c\"),\n",
    "    Question(questionPrompt[2], \"a\"),\n",
    "]\n",
    "\n",
    "\n",
    "\n",
    "def run_test(questions):\n",
    "    score = 0\n",
    "    for question in questions:\n",
    "        answer = input(question.prompt)\n",
    "        if answer ==question.answer:\n",
    "            score += 1\n",
    "    print(\"You got \" + str(score)+ \"/\" + str(len(questions)))\n",
    "\n",
    "run_test(questions)\n",
    "\n",
    " # CREATE A FILE FOR APP\n",
    "\n",
    "class Question:\n",
    "    def __init__(self,prompt,answer):\n",
    "        self.prompt = prompt\n",
    "        self.answer = answer"
   ]
  },
  {
   "cell_type": "code",
   "execution_count": 1,
   "metadata": {},
   "outputs": [
    {
     "ename": "ModuleNotFoundError",
     "evalue": "No module named 'app'",
     "output_type": "error",
     "traceback": [
      "\u001b[1;31m---------------------------------------------------------------------------\u001b[0m",
      "\u001b[1;31mModuleNotFoundError\u001b[0m                       Traceback (most recent call last)",
      "\u001b[1;32m<ipython-input-1-e7bf4e22cf1d>\u001b[0m in \u001b[0;36m<module>\u001b[1;34m()\u001b[0m\n\u001b[0;32m      2\u001b[0m \u001b[1;31m# RUN THIS CODE ONLY ON PYCHARM OKAY\u001b[0m\u001b[1;33m\u001b[0m\u001b[1;33m\u001b[0m\u001b[0m\n\u001b[0;32m      3\u001b[0m \u001b[1;33m\u001b[0m\u001b[0m\n\u001b[1;32m----> 4\u001b[1;33m \u001b[1;32mfrom\u001b[0m \u001b[0mapp\u001b[0m \u001b[1;32mimport\u001b[0m \u001b[0mQuestion\u001b[0m    \u001b[1;31m# CREATE A FILE FOR APP\u001b[0m\u001b[1;33m\u001b[0m\u001b[0m\n\u001b[0m\u001b[0;32m      5\u001b[0m \u001b[1;33m\u001b[0m\u001b[0m\n\u001b[0;32m      6\u001b[0m \u001b[1;31m# ALSO CREATE A FILE FOR THE CODE DOWN HERE ( WATCH THE 4 HR PYTHON VIDEO IF ANY DOUBT)\u001b[0m\u001b[1;33m\u001b[0m\u001b[1;33m\u001b[0m\u001b[0m\n",
      "\u001b[1;31mModuleNotFoundError\u001b[0m: No module named 'app'"
     ]
    }
   ],
   "source": [
    "# A QUIZ GAME USING CLASSES AND OBJECTS IN PYTHON\n",
    "# RUN THIS CODE ONLY ON PYCHARM OKAY\n",
    "\n",
    "from app import Question    # CREATE A FILE FOR APP\n",
    "\n",
    "# ALSO CREATE A FILE FOR THE CODE DOWN HERE ( WATCH THE 4 HR PYTHON VIDEO IF ANY DOUBT)\n",
    "\n",
    "questionPrompt = [\n",
    "    \"What color is the banana?\\n (a)Red \\n(b)Orange \\n(c)Yellow \\n\\n\",\n",
    "    \"What color is the mango?\\n (a)Green \\n(b)Mangenta \\n(c)Orange\\n\\n\",\n",
    "    \"What color is the apple?\\n (a)Red \\n(b)Blue \\n (c)Brown\\n\\n\"\n",
    "\n",
    "]\n",
    "\n",
    "questions =[\n",
    "    Question(questionPrompt[0], \"c\"),\n",
    "    Question(questionPrompt[1], \"c\"),\n",
    "    Question(questionPrompt[2], \"a\"),\n",
    "]\n",
    "\n",
    "\n",
    "\n",
    "def run_test(questions):\n",
    "    score = 0\n",
    "    for question in questions:\n",
    "        answer = input(question.prompt)\n",
    "        if answer ==question.answer:\n",
    "            score += 1\n",
    "    print(\"You got \" + str(score)+ \"/\" + str(len(questions)))\n",
    "\n",
    "run_test(questions)\n",
    "\n",
    " # CREATE A FILE FOR APP\n",
    "\n",
    "class Question:\n",
    "    def __init__(self,prompt,answer):\n",
    "        self.prompt = prompt\n",
    "        self.answer = answer"
   ]
  },
  {
   "cell_type": "code",
   "execution_count": 39,
   "metadata": {},
   "outputs": [
    {
     "name": "stdout",
     "output_type": "stream",
     "text": [
      "56\n",
      "77\n"
     ]
    }
   ],
   "source": [
    "# SENT DEX TUTORIALS IMPORTING MODULES\n",
    "# CONVERSIONS OF BASIC NUMBERS\n",
    "\n",
    "intme = '54'\n",
    "num = 2\n",
    "\n",
    "print(int(intme) + 2)\n",
    "# print(intme + 2)              # THE NUMBER DOESNT STAY CONVERTED AS YOU CAN SEE IN THIS EXAMPLE THE INTERPRETER IS SHOWING AN ERROR\n",
    "\n",
    "strgme = 77\n",
    "print(str(strgme))"
   ]
  },
  {
   "cell_type": "code",
   "execution_count": 2,
   "metadata": {},
   "outputs": [
    {
     "name": "stdout",
     "output_type": "stream",
     "text": [
      "506.75\n"
     ]
    }
   ],
   "source": [
    "# SENT DEX TUTORIALS IMPORTING MODULES\n",
    "\n",
    "from statistics import variance as z\n",
    "\n",
    "list = [1,23,5,74,3,46,7,5,4,32,6,7]\n",
    "x = z(list)\n",
    "\n",
    "print(x)"
   ]
  },
  {
   "cell_type": "code",
   "execution_count": 6,
   "metadata": {},
   "outputs": [
    {
     "name": "stdout",
     "output_type": "stream",
     "text": [
      "506.75\n",
      "17.75\n"
     ]
    }
   ],
   "source": [
    "from statistics import variance as v , mean as m \n",
    "\n",
    "list = [1,23,5,74,3,46,7,5,4,32,6,7]\n",
    "x = v(list)\n",
    "s = m(list)\n",
    "\n",
    "print(x)\n",
    "print(s)"
   ]
  },
  {
   "cell_type": "code",
   "execution_count": 8,
   "metadata": {},
   "outputs": [
    {
     "name": "stdout",
     "output_type": "stream",
     "text": [
      "506.75\n",
      "17.75\n"
     ]
    }
   ],
   "source": [
    "from statistics import *\n",
    "\n",
    "list = [1,23,5,74,3,46,7,5,4,32,6,7]\n",
    "x = v(list)\n",
    "s = m(list)\n",
    "\n",
    "print(x)\n",
    "print(s)"
   ]
  },
  {
   "cell_type": "code",
   "execution_count": 9,
   "metadata": {},
   "outputs": [
    {
     "name": "stdout",
     "output_type": "stream",
     "text": [
      "506.75\n",
      "17.75\n"
     ]
    }
   ],
   "source": [
    "import statistics\n",
    "\n",
    "list = [1,23,5,74,3,46,7,5,4,32,6,7]\n",
    "x = v(list)\n",
    "s = m(list)\n",
    "\n",
    "print(x)\n",
    "print(s)"
   ]
  },
  {
   "cell_type": "code",
   "execution_count": 21,
   "metadata": {},
   "outputs": [
    {
     "name": "stdout",
     "output_type": "stream",
     "text": [
      "C:\\Users\\Prateek Manta\\Documents\\MY ALL PYTHON PROGRAMMES\n"
     ]
    }
   ],
   "source": [
    "# NOTE IN THIS WHENEVER YOU RUN THIS PROGRAM EVERSINGLE TIME ITS CREATE EVERY SINGLE TIME\n",
    "\n",
    "import os                            # ITS LIKE USING COMMAND PROMPT IN python\n",
    "\n",
    "curdir = os.getcwd()                 #  os.getcwd RETURNS THE INPUT OF THE CURRENT DIRECTORY\n",
    "print(curdir)\n",
    "\n",
    "os.mkdir(\"new\")                      # THIS IS USED TO CREATE NEW FILES\n",
    "\n",
    "import time\n",
    "\n",
    "time.sleep(2)                        # THIS PAUSES THE EXCEUTION OF THE PROGRAM LIKE IN JAVA\n",
    "\n",
    "os.rename(\"new\", \"new dir1\")         # THIS UESD TO RENAME THE FILES / DIRECTORY\n",
    "time.sleep(2)\n",
    "\n",
    "os.rmdir(\"new dir1\")                       # THIS IS USED TO DELETE FILES\n"
   ]
  },
  {
   "cell_type": "code",
   "execution_count": 48,
   "metadata": {},
   "outputs": [
    {
     "name": "stdout",
     "output_type": "stream",
     "text": [
      "5736\n",
      "the last limit for factorization in python is 2965 and the count of numbers it have is = 9010\n"
     ]
    }
   ],
   "source": [
    "STR = \"331627509245063324117539338057632403828111720810578039457193543706038077905600822400273230859732592255402352941225834109258084817415293796131386633526343688905634058556163940605117252571870647856393544045405243957467037674108722970434684158343752431580877533645127487995436859247408032408946561507233250652797655757179671536718689359056112815871601717232657156110004214012420433842573712700175883547796899921283528996665853405579854903657366350133386550401172012152635488038268152152246920995206031564418565480675946497051552288205234899995726450814065536678969532101467622671332026831552205194494461618239275204026529722631502574752048296064750927394165856283531779574482876314596450373991327334177263608852490093506621610144459709412707821313732563831572302019949914958316470942774473870327985549674298608839376326824152478834387469595829257740574539837501585815468136294217949972399813599481016556563876034227312912250384709872909626622461971076605931550201895135583165357871492290916779049702247094611937607785165110684432255905648736266530377384650390788049524600712549402614566072254136302754913671583406097831074945282217490781347709693241556111339828051358600690594619965257310741177081519922564516778571458056602185654760952377463016679422488444485798349801548032620829890965857381751888619376692828279888453584639896594213952984465291092009103710046149449915828588050761867924946385180879874512891408019340074625920057098729578599643650655895612410231018690556060308783629110505601245908998383410799367902052076858669183477906558544700148692656924631933337612428097420067172846361939249698628468719993450393889367270487127172734561700354867477509102955523953547941107421913301356819541091941462766417542161587625262858089801222443890248677182054959415751991701271767571787495861619665931878855141835782092601482071777331735396034304969082070589958701381980813035590160762908388574561288217698136182483576739218303118414719133986892842344000779246691209766731651433494437473235636572048844478331854941693030124531676232745367879322847473824485092283139952509732505979127031047683601481191102229253372697693823670057565612400290576043852852902937606479533458179666123839605262549107186663869354766108455046198102084050635827676526589492393249519685954171672419329530683673495544004586359838161043059449826627530605423580755894108278880427825951089880635410567917950974017780688782869810219010900148352061688883720250310665922068601483649830532782088263536558043605686781284169217133047141176312175895777122637584753123517230990549829210134687304205898014418063875382664169897704237759406280877253702265426530580862379301422675821187143502918637636340300173251818262076039747369595202642632364145446851113427202150458383851010136941313034856221916631623892632765815355011276307825059969158824533457435437863683173730673296589355199694458236873508830278657700879749889992343555566240682834763784685183844973648873952475103224222110561201295829657191368108693825475764118886879346725191246192151144738836269591643672490071653428228152661247800463922544945170363723627940757784542091048305461656190622174286981602973324046520201992813854882681951007282869701070737500927666487502174775372742351508748246720274170031581122805896178122160747437947510950620938556674581252518376682157712807861499255876132352950422346387878954850885764466136290394127665978044202092281337987115900896264878942413210454925003566670632909441579372986743421470507213588932019580723064781498429522595589012754823971773325722910325760929790733299545056388362640474650245080809469116072632087494143973000704111418595530278827357654819182002449697761111346318195282761590964189790958117338627206088910432945244978535147014112442143055486089639578378347325323595763291438925288393986256273242862775563140463830389168421633113445636309571965978466338551492316196335675355138403425804162919837822266909521770153175338730284610841886554138329171951332117895728541662084823682817932512931237521541926970269703299477643823386483008871530373405666383868294088487730721762268849023084934661194260180272613802108005078215741006054848201347859578102770707780655512772540501674332396066253216415004808772403047611929032210154385353138685538486425570790795341176519571188683739880683895792743749683498142923292196309777090143936843655333359307820181312993455024206044563340578606962471961505603394899523321800434359967256623927196435402872055475012079854331970674797313126813523653744085662263206768837585132782896252333284341812977624697079543436003492343159239674763638912115285406657783646213911247447051255226342701239527018127045491648045932248108858674600952306793175967755581011679940005249806303763141344412269037034987355799916009259248075052485541568266281760815446308305406677412630124441864204108373119093130001154470560277773724378067188899770851056727276781247198832857695844217588895160467868204810010047816462358220838532488134270834079868486632162720208823308727819085378845469131556021728873121907393965209260229101477527080930865364979858554010577450279289814603688431821508637246216967872282169347370599286277112447690920902988320166830170273420259765671709863311216349502171264426827119650264054228231759630874475301847194095524263411498469508073390080000000000000000000000000000000000000000000000000000000000000000000000000000000000000000000000000000000000000000000000000000000000000000000000000000000000000000000000000000000000000000000000000000000000000000000000000000000000000000000000000000000000000000000000000000000000000000000000000000000000000000000000000000000000000000000000000000000000000000000000000000000000000000000000000000000000000000000000000000000000000000000000000000000000000000000000000000000000000000000000000000000000000000000\"\n",
    "print(len(STR))\n",
    "STR1 = \"1012055495288973704710169046847886670562602365168024075467691026676096315798402038750128571008841740449766109352666751859018144114180236680261777823266710471009749714237278290260220297575670117544331738864875097913655100152145640756899854009021759392553345632207877413959801990064807478828529391937614695428853156271722432240887095393622915231591315107959683523998544288587687786482168514189396963096012707179915876041382612921291313862665906784953199598243493943168668589800260819129064210310941458419310071646333309677983932729654114168881834710512308769409254736032579654291441355066299873105344651474428721212219314668696326247272448264959805174705445397723217716360110798698930706637991537295437243461456484212500451538560519422942097920370725118232566138611711580062856189565077632626348011632712253149009631712964742546129392166294291491890130415425281156178627059583913231892960054980035966621237541970262473756528997145580097435715869328167446819280079889667552033563460786839869550029494081947697386200352779819738520248971261344399929828849091415251158846238096695560117366039639573554043868587594088327893168802165825550163520794823053745866483065946763010090762690544719855211603385564373552643084077542449096329744099344500553344733253142645825120770375228484660289128450784181894031078937008458748903653406932911559415857371827878814343605782306364828263663590366845716695943090227643381700302728692855346519350339897917138991759152426856537263142912599094840413766265789576332639602176368366353127147392019417937804988823167591749636874100649237625933246687597150283903835937303129418174917602796158568059783768074216638129513466955123739120958670372852567861629466325860111126286509429723169369978038401571719023490517681774321215329822558234508491728213306458587378065356480594221667164496033352509456267606117817538416463942455192974159383213705481697222138634343128852125482938435719369848914034557795590626322323254200211115267649606625372473403555339475086707985260909249406718609965674366765736088950313598025243881609312996034588753719168791977867696244525597636875456565371696973092493007527982252712162644153339496152023930655436183322877528982610293282336715450735061710499422129598651875134531662780711341646621196966279092822190704554156799749964236799448109075772838144990187329478095652793713935331411962103757922765051209099911144202313161601191963383650249700235364569510409392571126325258737093621352077182698983596259942011805095976943057727231136970074621148049952372935603962836079377285954131467667941350102680286588272280397970900005321491761835381824587605273208197366073147926860635666922449315157526105260512999543796785620741858584171853020084371279327464706103874543360001591064277083673021765028742882615934245804885536889583126142580191959663741042476871748974213911790182488282989397080622331312202371041100595148497457673976015845713397121757430940663610204837467347628941352437598285576005463471185388998245488165113060136372412066183310771709549219854953830538264281046367899072274472819199105477624377432096146263974952975727850249733408862271999470121786212679557619915577620912163227651464449177420902552841844724300369874097025680722924844261938648140755600196588921715247567298625767491743839493002475110887108657546298622710142434240298583989337117416220258078756049044596948574296564119858794311681856095666859874431689992666743874560714121377116937236529949775515953178152475830570711565192617147278879958382100135668350710102473213129192753087389740100249268385925167526367472370726440030333303592410118839312348188793155265912910265201087712655871902799054262397602319099488743091959108975520823167273874471285707270195113497033895224237642301239796435697798844291366344225061650274062583719855337339330550395906339743866113410712492673938879101093747220176333035327030619928641270989620414584581026743495694477377166845770639312076892589190683479125038320180436453934297902477496632705873924144000256126519917412140099162598413073392122570868008837647755132461481462269996236313834406526467257888488640579234557100555449252471823322454103082096976296612521522649464317354313955410132012272939834277308582553787549640776494576196622730408130756740920760661938009851574659362651880248552215889139458651487394652532995902026842986024103399621385902798995237334028186853623831673904013652973528073202514838140447998408823311527098811032227724583839124472868650926710055374253896109730276894639884702320877669399879964897933329179721455390922284986580949312530294172249745052799143538674818504809961387519033539679640041433312339555320071287489849271717796939172832541346511117863821489875852813793345142206904752312725723237861855518166796811789504385200562876534623965997495148421290672780009401176399571441615359623182667965816907731270737845628122998883636194855996679410049481499932719713285275464534816706079694931041396276008775666922104831913539435083016893488057432368746027698950981960472976996768687275417651217881619223555849252617213857349979642945285217388904544270351427262112497594555751677170558576118591156093548056507488098219006016279013057046986188252064168830917027546312516337356591842496768872687009667927103839247614932617118190998729270366184258460732199658883169225522668044672733984633028382761310988049853696317193679566249454737451212848629322211152220991201298236903028866251279484044024358751763704862248150634931730826919215508767556395742767196211374325631233389116943613870838523666081197687742018804531064801802964220019622096068171176516654017681104578807750638860778349961761522223407625591177634088931617433013117196146810301251508764056056978940232273338890630960146855466719920817662638548219062308609563759987627575217641208717491139432385146346897785757392703170911757128705290164701931572275711234971870199006373347218574016868249937601880601126453091238591642122113264599378435506008352792469102721168272050621436701330207658362433874361701413304046229733794224197317826982003468501689163213417868171185129654110115766120297958767005213576770385131078720594866205939548217775698220695769447610983977541313705481394468815656312940805077665026250450816702184250400421378626511424470410735542173081557872787098642022112590637816662171432830416091412094067335546602519184272297963602537035649413930995667458355232404897757590498270889950170624017966892582372097733859092306508199647414818213194039024902046572722831276144834135699393341667107567252752210109445120433359427436049099206485261707452298458087948071689483106545690665196473385274329603676563771516834989083313306704244849401992027953914274978343418121420008687805723973379813518940488584855998178305113460940491327947843829890298935873818135689665526742678815391757206408839127398780577059381221082219969724186093212229259060106915046018996444456799555628090356879913836145151811176026163163252814502810716794750968444176857366978297478570712897211147180670199092055031722815887501200939658814064890032244881802440169829490732575874917707871074103313056280099122102465423194776498586854710243672861347395449187163962814362159060532686722230959158500998300874572026132531388795468588749607693464337986516193131175593423858111868498246465186174886936068214702738538353368828372970619944012520414918802777592328574265391776855698117120222649519227771860852636316873838454659635430371493123975263987997947348816546377045888164096505451172930586233986735502145948313416088246976300615373929562431988170041672773894397767103387093962564737089245532391100141409425615657729218172308454746583270827402456135724474741285912835306249862485373547853698797590861259109229920942889574220012892785034790857246923868480777418968252171135788401804360414278234954882211313211483584741283606734948356465077225874798062345457255466802088555858325947731793885080643656242808774025817895078170090920232319327807018166076288689660925826227952314662252109758994223717807063676224783637823624815218910377611119182605505909366378632531099194907023636073322007419951653760757460407517099483086676561681737376930179208893709738257964115125950907667668455404811163363573242755429338990271838000156546399341648570409174561825865194310794632097034773890117002294441524478467652041174040952322977169388373575932910247178027079530138514579521536000000000000000000000000000000000000000000000000000000000000000000000000000000000000000000000000000000000000000000000000000000000000000000000000000000000000000000000000000000000000000000000000000000000000000000000000000000000000000000000000000000000000000000000000000000000000000000000000000000000000000000000000000000000000000000000000000000000000000000000000000000000000000000000000000000000000000000000000000000000000000000000000000000000000000000000000000000000000000000000000000000000000000000000000000000000000000000000000000000000000000000000000000000000000000000000000000000000000000000000000000000000000000000000000000000000000000000000000000000000000000000000000000000000000000000000000000000000000000000000000000000000000000000\"\n",
    "print(\"the last limit for factorization in python is 2965 and the count of numbers it have is = \"  + str(len(STR1)))"
   ]
  },
  {
   "cell_type": "code",
   "execution_count": 40,
   "metadata": {},
   "outputs": [
    {
     "data": {
      "text/plain": [
       "Ellipsis"
      ]
     },
     "execution_count": 40,
     "metadata": {},
     "output_type": "execute_result"
    }
   ],
   "source": [
    "...\n",
    "\n",
    "# some of the basics tutorials is mising over here of the videO PYTHON TUTORIAL 3 BASIC FUNCTIONS\n",
    "# Those are converion from INT TO FLOAT , USING MATH LIBRARY , USING DIFFERENT FUNCTIONS LIKE 'ROUND , CEIL , FLOOR'\n",
    "\n",
    "\n",
    "..."
   ]
  },
  {
   "cell_type": "code",
   "execution_count": 46,
   "metadata": {},
   "outputs": [
    {
     "name": "stderr",
     "output_type": "stream",
     "text": [
      "This is stderr text\n"
     ]
    },
    {
     "name": "stdout",
     "output_type": "stream",
     "text": [
      "This stdout text\n",
      "['C:\\\\Users\\\\Prateek Manta\\\\Anaconda\\\\lib\\\\site-packages\\\\ipykernel_launcher.py', '-f', 'C:\\\\Users\\\\Prateek Manta\\\\AppData\\\\Roaming\\\\jupyter\\\\runtime\\\\kernel-32190680-da17-4143-8c9b-d65390650e18.json']\n"
     ]
    }
   ],
   "source": [
    "# MODULE SYS\n",
    "\n",
    "import sys\n",
    "\n",
    "sys.stderr.write('This is stderr text\\n')        # standard error object; used for error messages \n",
    "sys.stderr.flush()\n",
    "sys.stdout.write('This stdout text\\n')           # standard output file object; used by print()\n",
    "\n",
    "print(sys.argv)                             # command line arguments; argv[0] is the script pathname if known\n",
    "\n",
    "# THERE IS MORE TO THIS WITH THE COMMAND LINE ARGUMENTS BUT I WAS UNABLE TO DO IT \n",
    "# IN ORDER TO KNOW MORE WATCH SENTDEX PYTHON BASICS 3 PROGRAMMING TUTORIAL - SYS MODULE"
   ]
  },
  {
   "cell_type": "code",
   "execution_count": 1,
   "metadata": {},
   "outputs": [
    {
     "name": "stdout",
     "output_type": "stream",
     "text": [
      "b'<html>\\n\\t<head>\\n\\n\\t\\t<!--\\n\\t\\tpalette:\\n\\t\\tdark blue: #003F72\\n\\t\\tyellow: #FFD166\\n\\t\\tsalmon: #EF476F\\n\\t\\toffwhite: #e7d7d7\\n\\t\\tLight Blue: #118AB2\\n\\t\\tLight green: #7DDF64\\n\\t\\t-->\\n\\n\\t\\t<meta name=\"viewport\" content = \"width=device-width, initial-scale=1.0\">\\n\\t\\t<title>Python Programming Tutorials</title>\\n\\n\\t\\t<meta name=\"description\" content=\"Python Programming tutorials from beginner to advanced on a massive variety of topics. All video and text tutorials are free.\">\\n\\n\\t\\t<link rel=\"shortcut icon\" href=\"/static/favicon.ico\">\\n\\t\\t<link rel=\"stylesheet\" href=\"/static/css/materialize.min.css\">\\n        <link href=\"https://fonts.googleapis.com/icon?family=Material+Icons\" rel=\"stylesheet\">\\n        <meta name=\"google-site-verification\" content=\"3fLok05gk5gGtWd_VSXbSSSH27F2kr1QqcxYz9vYq2k\" />\\n        <link rel=\"stylesheet\" type=\"text/css\" href=\"/static/css/bootstrap.css\">\\n\\n\\n\\t\\t  <!-- Compiled and minified CSS -->\\n\\n\\t\\t<!-- Compiled and minified JavaScript -->\\n\\n\\t\\t<script src=\"https://code.jquery.com/jquery-2.1.4.min.js\"></script>\\n\\t\\t<script src=\"https://cdnjs.cloudflare.com/ajax/libs/materialize/0.97.3/js/materialize.min.js\"></script>\\n\\n\\n\\n        <style>\\n\\t\\t@media (min-width:992px) {\\n\\t\\t#aside {\\n\\t\\t\\twidth:250px;\\n\\t\\t}\\n\\t\\tpre { tab-size: 4;}\\n\\t\\t.btn {background-color:#FFD166;\\n\\t\\t\\t  color:#000;\\n\\t\\t      height:auto;\\n\\t\\t\\t  font-color:#000;\\n\\t\\t\\t  }\\n\\t\\t.btn:hover {background-color:#FFD166;\\n\\t\\t\\t\\t\\t}\\n\\n\\n\\t\\t</style>\\n\\n\\t\\t<!-- Google Tracking -->\\n\\t\\t<script>\\n\\t\\t\\t  (function(i,s,o,g,r,a,m){i[\\'GoogleAnalyticsObject\\']=r;i[r]=i[r]||function(){\\n\\t\\t\\t  (i[r].q=i[r].q||[]).push(arguments)},i[r].l=1*new Date();a=s.createElement(o),\\n\\t\\t\\t  m=s.getElementsByTagName(o)[0];a.async=1;a.src=g;m.parentNode.insertBefore(a,m)\\n\\t\\t\\t  })(window,document,\\'script\\',\\'//www.google-analytics.com/analytics.js\\',\\'ga\\');\\n\\n\\t\\t\\t  ga(\\'create\\', \\'UA-51891827-1\\', \\'auto\\');\\n\\t\\t\\t  ga(\\'send\\', \\'pageview\\');\\n\\n\\t\\t</script>\\n\\n            \\n            \\n\\n\\n\\n\\n\\t</head>\\n\\n\\t<body>\\n\\n\\t\\t<div class=\"navbar-fixed\">\\n\\t\\t\\t<nav style=\"background-color:#003F72\">\\n\\t\\t\\t\\t<div class=\"nav-wrapper container\">\\n\\t\\t\\t\\t\\t<a href=\"/\" class=\"brand-logo\"><img class=\"img-responsive\" style=\"width:50px; height;50px; margin-top:5px\" src=\"/static/images/mainlogowhitethick.jpg\"></a>\\n\\t\\t\\t\\t\\t<a href=\"#\" data-activates=\"navsidebar\" class=\"button-collapse\"><i class=\"mdi-navigation-menu\"></i></a>\\n\\t\\t\\t\\t\\t<ul class=\"right hide-on-med-and-down\">\\n\\t\\t\\t\\t\\t<li><i class=\"material-icons\">search</i></li>\\n\\t\\t\\t\\t\\t<li>\\n\\t\\t\\t\\t\\t\\t<form method=\\'get\\' id=\\'searchform\\' style=\\'height:50px; padding-top:10px\\' action=\\'/search/?l=hi\\'>\\n\\t\\t\\t\\t\\t\\t\\t<input name=\\'q\\' id=\"search\" type=\"search\" placeholder=\"search\"  style=\\'font-size:16px\\'>\\n\\t\\t\\t\\t\\t\\t</form>\\n\\t\\t\\t\\t\\t</li>\\n\\t\\t\\t\\t\\t\\t\\n\\t\\t\\t<li><a href=\"/\">Home</a></li>\\n\\t\\t\\t<li><a class=\"tooltipped\" data-position=\"bottom\" data-delay=\"50\" data-tooltip=\"sudo apt-get upgrade\" href=\"/+=1/\">+=1</a></li>\\n\\t\\t\\t<!--<li><a href=\"/store/python-hoodie/\">Store</a></li>-->\\n\\t\\t\\t<li><a href=\"/support/\">Support the Content</a></li>\\n\\t\\t\\t\\n\\t\\t\\t<li><a href=\"https://goo.gl/7zgAVQ\" target=\\'blank\\'><!--<i class=\"material-icons\">question_answer</i>-->Community</a></li>\\n\\t\\t\\t\\t<li><a href=\"/login/\">Log in</a></li>\\n                <li><a href=\"/register/\">Sign up</a></li>\\n\\t\\t\\t\\n\\n\\t\\t\\t\\t\\t</ul>\\n\\t\\t\\t\\t\\t<ul class=\"side-nav\" id=\"navsidebar\">\\n\\t\\t\\t\\t\\t<li>\\n\\t\\t\\t\\t\\t\\t<form method=\\'get\\' id=\\'searchform\\' style=\\'height:50px; padding-top:10px\\' action=\\'/search/?l=hi\\'>\\n\\t\\t\\t\\t\\t\\t\\t<input name=\\'q\\' id=\"search\" type=\"search\" placeholder=\"search\"  style=\\'font-size:16px\\'>\\n\\t\\t\\t\\t\\t\\t</form>\\n\\t\\t\\t\\t\\t</li>\\n\\t\\t\\t\\t\\t\\t\\n\\t\\t\\t<li><a href=\"/\">Home</a></li>\\n\\t\\t\\t<li><a class=\"tooltipped\" data-position=\"bottom\" data-delay=\"50\" data-tooltip=\"sudo apt-get upgrade\" href=\"/+=1/\">+=1</a></li>\\n\\t\\t\\t<!--<li><a href=\"/store/python-hoodie/\">Store</a></li>-->\\n\\t\\t\\t<li><a href=\"/support/\">Support the Content</a></li>\\n\\t\\t\\t\\n\\t\\t\\t<li><a href=\"https://goo.gl/7zgAVQ\" target=\\'blank\\'><!--<i class=\"material-icons\">question_answer</i>-->Community</a></li>\\n\\t\\t\\t\\t<li><a href=\"/login/\">Log in</a></li>\\n                <li><a href=\"/register/\">Sign up</a></li>\\n\\t\\t\\t\\n\\n\\t\\t\\t\\t\\t</ul>\\n\\t\\t\\t\\t</div>\\n\\t\\t\\t</nav>\\n\\t\\t</div>\\n\\n\\n\\n\\t\\t<!-- main content -->\\n\\t\\t<div class=\"container\" style=\"max-width:1500px; min-height:100%\">\\n\\t\\t\\t<!--Notification:-->\\n            <!--<p style=\"font-size:80%\">TensorFlow.js Livestream:  <a href=\"https://www.youtube.com/watch?v=NjSlj95lliM\" target=\"blank\"><strong>Deep Learning in the browser</strong></a></p>-->\\n            <!--End Notification:-->\\n\\n\\t\\t\\t\\t\\t\\n\\t\\t\\t\\t\\t\\n\\t\\t\\t\\t\\t  \\n\\t\\t\\t\\t\\t\\t\\n\\t\\t\\t\\t\\t\\t\\t<script>Materialize.toast(\\'Chat with us on Discord:<a href=\"https://discord.gg/sentdex\" target=\"blank\"><button style=\"margin-bottom:5px\" class=\"btn btn-sm\">Join</button></a>\\', 4000)</script>\\n\\t\\t\\t\\t\\t\\t\\n\\t\\t\\t\\t\\t  \\n\\t\\t\\t\\t\\t\\n\\n\\t\\t\\t\\t\\t\\n\\t<div class=\"row\">\\n\\t<!-- size 4 on a large screen, 12 on a small, 6 on a med -->\\n\\t\\t<div class=\"col l4 s12 m6\">\\n\\t\\t\\t<a href=\"/data-analysis-tutorials/\" class=\"waves-effect waves-light\" style=\"color:#000\">\\n\\t\\t\\t<div class=\"card-panel hoverable\" style=\"height:360px; background-color:#FFFFFF;\">\\n\\t\\t\\t\\t<div class=\"card-image\">\\n\\t\\t\\t\\t  <img class=\"responsive-img\" src=\"/static/images/categories/3D-Matplotlib.png\" style=\"width:250px\">\\n\\t\\t\\t\\t  <br><span class=\"card-title\"><strong>Data Analysis</strong></span>\\n\\t\\t\\t\\t</div>\\n\\t\\t\\t\\t<div class=\"card-content\">\\n\\t\\t\\t\\t  <p>Learn how to use Python with Pandas, Matplotlib, and other modules to gather insights from and about your data.</p>\\n\\t\\t\\t\\t</div>\\n\\t\\t\\t\\t<div class=\"card-action right-align\">\\n\\t\\t\\t\\t  <a href=\"/data-analysis-tutorials/\" class=\"waves-effect waves-light btn\" style=\"color:#000000; background-color:#FFD166\">View</a>\\n\\t\\t\\t\\t</div>\\n            </div>\\n            </a>\\n\\t\\t</div>\\n\\n\\t\\t<div class=\"col l4 s12 m6\">\\n\\t\\t\\t<a href=\"/robotics-tutorials/\" class=\"waves-effect waves-light\" style=\"color:#000\">\\n\\t\\t\\t<div class=\"card-panel hoverable\" style=\"height:360px; background-color:#FFFFFF;\">\\n\\t\\t\\t\\t<div class=\"card-image\">\\n\\t\\t\\t\\t  <img class=\"responsive-img\" src=\"/static/images/categories/robotics_with_raspberry_pi_gopigo.jpg\" style=\"width:250px\">\\n\\t\\t\\t\\t  <br><span class=\"card-title\"><strong>Robotics</strong></span>\\n\\t\\t\\t\\t</div>\\n\\t\\t\\t\\t<div class=\"card-content\">\\n\\t\\t\\t\\t  <p>Control hardware with Python programming and the Raspberry Pi.</p>\\n\\t\\t\\t\\t</div>\\n\\t\\t\\t\\t<div class=\"card-action right-align\">\\n\\t\\t\\t\\t  <a href=\"/robotics-tutorials/\" class=\"waves-effect waves-light btn\" style=\"color:#000000; background-color:#FFD166\">View</a>\\n\\t\\t\\t\\t</div>\\n            </div>\\n            </a>\\n\\t\\t</div>\\n\\n\\t\\t<div class=\"col l4 s12 m6\">\\n\\t\\t\\t<a href=\"/web-development-tutorials/\" class=\"waves-effect waves-light\" style=\"color:#000\">\\n\\t\\t\\t<div class=\"card-panel hoverable\" style=\"height:360px; background-color:#FFFFFF;\">\\n\\t\\t\\t\\t<div class=\"card-image\">\\n\\t\\t\\t\\t  <img class=\"responsive-img\" src=\"/static/images/categories/webdev.png\" style=\"width:250px\">\\n\\t\\t\\t\\t  <br><span class=\"card-title\"><strong>Web Development</strong></span>\\n\\t\\t\\t\\t</div>\\n\\t\\t\\t\\t<div class=\"card-content\">\\n\\t\\t\\t\\t  <p>How to develop websites with either the Flask or Django frameworks for Python.</p>\\n\\t\\t\\t\\t</div>\\n\\t\\t\\t\\t<div class=\"card-action right-align\">\\n\\t\\t\\t\\t  <a href=\"/web-development-tutorials/\" class=\"waves-effect waves-light btn\" style=\"color:#000000; background-color:#FFD166\">View</a>\\n\\t\\t\\t\\t</div>\\n            </div>\\n            </a>\\n\\t\\t</div>\\n\\n\\n\\n\\t\\t<div class=\"col l4 s12 m6\">\\n\\t\\t\\t<a href=\"/game-development-tutorials/\" class=\"waves-effect waves-light\" style=\"color:#000\">\\n\\t\\t\\t<div class=\"card-panel hoverable\" style=\"height:360px; background-color:#FFFFFF;\">\\n\\t\\t\\t\\t<div class=\"card-image\">\\n\\t\\t\\t\\t  <img class=\"responsive-img\" src=\"/static/images/categories/pygame-tutorials.png\" style=\"width:250px\">\\n\\t\\t\\t\\t  <br><span class=\"card-title\"><strong>Game Development</strong></span>\\n\\t\\t\\t\\t</div>\\n\\t\\t\\t\\t<div class=\"card-content\">\\n\\t\\t\\t\\t  <p>Create your own games with Python\\'s PyGame library, or check out the multi-platform Kivy.</p>\\n\\t\\t\\t\\t</div>\\n\\t\\t\\t\\t<div class=\"card-action right-align\">\\n\\t\\t\\t\\t  <a href=\"/game-development-tutorials/\" class=\"waves-effect waves-light btn\" style=\"color:#000000; background-color:#FFD166\">View</a>\\n\\t\\t\\t\\t</div>\\n            </div>\\n            </a>\\n\\t\\t</div>\\n\\n\\n\\n\\t\\t<div class=\"col l4 s12 m6\">\\n\\t\\t\\t<a href=\"/python-fundamental-tutorials/\" class=\"waves-effect waves-light\" style=\"color:#000\">\\n\\t\\t\\t<div class=\"card-panel hoverable\" style=\"height:360px; background-color:#FFFFFF;\">\\n\\t\\t\\t\\t<div class=\"card-image\">\\n\\t\\t\\t\\t  <img class=\"responsive-img\" src=\"/static/images/categories/python-3-basics.png\" style=\"width:250px\">\\n\\t\\t\\t\\t  <br><span class=\"card-title\"><strong>Python Fundamentals</strong></span>\\n\\t\\t\\t\\t</div>\\n\\t\\t\\t\\t<div class=\"card-content\">\\n\\t\\t\\t\\t  <p>Learn the basic and intermediate Python fundamentals.</p>\\n\\t\\t\\t\\t</div>\\n\\t\\t\\t\\t<div class=\"card-action right-align\">\\n\\t\\t\\t\\t  <a href=\"/python-fundamental-tutorials/\" class=\"waves-effect waves-light btn\" style=\"color:#000000; background-color:#FFD166\">View</a>\\n\\t\\t\\t\\t</div>\\n            </div>\\n            </a>\\n\\t\\t</div>\\n\\n\\n\\n\\n\\t\\t<!--<div class=\"col l4 s12 m6\">\\n\\t\\t\\t\\n\\t\\t\\t<div class=\"card-panel hoverable\" style=\"height:360px; background-color:#FFFFFF;\">\\n\\t\\t\\t<a href=\"/introduction-to-python-programming/\" class=\"waves-effect waves-light\" style=\"color:#000\">\\n\\t\\t\\t\\t<div class=\"card-image\">\\n\\t\\t\\t\\t  <img class=\"responsive-img\" src=\"/static/images/categories/python-3-basics.png\" style=\"width:250px\">\\n\\t\\t\\t\\t  <br><span class=\"card-title\"><strong>Basics</strong></span>\\n\\t\\t\\t\\t</div>\\n\\t\\t\\t\\t<div class=\"card-content\">\\n\\t\\t\\t\\t  <p>Just getting started?</p> \\n\\t\\t\\t\\t  <p>Not a problem, learn the basics of programming with Python 3 here!</p>\\n\\t\\t\\t\\t</div>\\n\\t\\t\\t\\t<div class=\"card-action right-align\">\\n\\t\\t\\t\\t  <a href=\"/introduction-to-python-programming/\" class=\"waves-effect waves-light btn\" style=\"color:#000000; background-color:#FFD166\">Start</a>\\n\\t\\t\\t\\t</div>\\n\\t\\t\\t\\t</a>\\n            </div>\\n\\n\\n\\t\\t</div>-->\\n\\n\\t\\t<div class=\"col l4 s12 m6\">\\n\\n\\t\\t\\t<a href=\"/bot-tutorials/\" class=\"waves-effect waves-light\" style=\"color:#000\">\\n\\t\\t\\t<div class=\"card-panel hoverable\" style=\"height:360px; background-color:#FFFFFF;\">\\n\\t\\t\\t\\t<div class=\"card-image\">\\n\\t\\t\\t\\t  <img class=\"responsive-img\" src=\"/static/images/categories/bots.png\" style=\"width:250px\">\\n\\t\\t\\t\\t  <br><span class=\"card-title\"><strong>Bots</strong></span>\\n\\t\\t\\t\\t</div>\\n\\t\\t\\t\\t<div class=\"card-content\">\\n\\t\\t\\t\\t  <p>Creating various software bots, like bots in games, in chats, and to interact with the web. Not to be confused with robotics!</p>\\n\\t\\t\\t\\t</div>\\n\\t\\t\\t\\t<div class=\"card-action right-align\">\\n\\t\\t\\t\\t  <a href=\"/bot-tutorials/\" class=\"waves-effect waves-light btn\" style=\"color:#000000; background-color:#FFD166\">View</a>\\n\\t\\t\\t\\t</div>\\n            </div>\\n            </a>\\n\\n\\t\\t</div>\\n\\t</div>\\n\\n\\n    <div class=\"row\">\\n\\n        <div class=\"col l6 s12 m6\">\\n\\n            <a href=\"/gui-development-tutorials/\" class=\"waves-effect waves-light\" style=\"color:#000\">\\n            <div class=\"card-panel hoverable\" style=\"height:360px; background-color:#FFFFFF;\">\\n                <div class=\"card-image\">\\n                  <img class=\"responsive-img\" src=\"/static/images/categories/tkinter-gui-tutorial-with-python-3.png\" style=\"width:250px\">\\n                  <br><span class=\"card-title\"><strong>GUIs</strong></span>\\n                </div>\\n                <div class=\"card-content\">\\n                  <p>Create software with a user interface using Tkinter, PyQt, or Kivy.</p>\\n                </div>\\n                <div class=\"card-action right-align\">\\n                  <a href=\"/gui-development-tutorials/\" class=\"waves-effect waves-light btn\" style=\"color:#000000; background-color:#FFD166\">View</a>\\n                </div>\\n            </div>\\n            </a>\\n\\n        </div>\\n\\n\\n\\n        <div class=\"col l6 s12 m6\">\\n    \\t  <div class=\"card\">\\n    \\t    <!--<div class=\"card-content\">\\n    \\t      <p>Curious about more than just Python? While not covered in nearly as much depth, here are some tutorials in other languages:</p>\\n    \\t    </div>-->\\n\\n    \\t    <div class=\"card-tabs\">\\n    \\t      <ul class=\"tabs tabs-fixed-width\">\\n    \\t        <li class=\"tab\"><a class=\"active\" href=\"#golang\">Golang</a></li>\\n    \\t        <!--<li class=\"tab\"><a href=\"#cpp\">C++</a></li>\\n    \\t        <li class=\"tab\"><a href=\"#julia\">Julia</a></li>-->\\n    \\t      </ul>\\n    \\t    </div>\\n\\n    \\t    <div class=\"card-content grey lighten-4\">\\n    \\t      <div id=\"golang\">\\n    \\t        <p>Go is a programming language aimed at being simple, easy to work with, and capable of high performance.</p><br>\\n    \\t        <a href=\"/go/\">\\n    \\t          <img class=\"responsive-img\" src=\"/static/images/categories/golang-tutorials.png\" style=\"width:150px;\">\\n    \\t        </a>\\n\\n    \\t        <div class=\"card-action left-align\">\\n    \\t          <a href=\"/go/\" class=\"waves-effect waves-light btn\" style=\"color:#000000; background-color:#FFD166\">View Tutorial</a>\\n    \\t        </div>\\n    \\t      </div>\\n\\n    \\t      <!--<div id=\"gpp\">C++ content</div>\\n    \\t      <div id=\"julia\">Julia content</div>-->\\n\\n    \\t    </div>\\n    \\t  </div>\\n        </div>\\n\\n\\n    </div>\\n\\n\\n\\n\\t\\t\\t</div>\\n\\t\\t</div>\\n\\n\\t\\t<!--login modal-->\\n\\t\\t\\n<div id=\"modalLogin\" class=\"modal\">\\n\\t\\t\\t<div class=\"modal-content\">\\n\\t\\t\\t\\t<h2 class=\"center-align\">Login</h2>\\n\\t\\t\\t\\t<div class=\"center-align\">\\n\\t\\t\\t\\t\\t<div class=\"divider\"></div>\\n\\t\\t\\t\\t\\t\\n\\t\\t\\t\\t\\t<form class=\"col s12\">\\n\\t\\t\\t\\t\\t\\t<div class=\"row center-align\">\\n\\t\\t\\t\\t\\t\\t\\t<div class=\"input-field col m10\">\\n\\t\\t\\t\\t\\t\\t\\t\\t<input id=\"icon_prefix\" type=\"text\" class=\"validate\">\\n\\t\\t\\t\\t\\t\\t\\t\\t<label for=\"icon_prefix\">Username</label>\\n\\t\\t\\t\\t\\t\\t\\t</div>\\n\\t\\t\\t\\t\\t\\t\\t<div class=\"input-field col m10\">\\n\\t\\t\\t\\t\\t\\t\\t\\t<input id=\"icon_password\" type=\"password\" class=\"validate\">\\n\\t\\t\\t\\t\\t\\t\\t\\t<label for=\"icon_password\">Password</label>\\n\\t\\t\\t\\t\\t\\t\\t</div>\\n\\t\\t\\t\\t\\t\\t</div>\\n\\t\\t\\t\\t\\t</form>\\n\\t\\t\\t\\t\\t\\n\\t\\t\\t\\t\\t\\n\\t\\t\\t\\t\\t<div class=\"divider\"></div>\\n\\t\\t\\t\\t\\t<p>\\n\\t\\t\\t\\t\\t\\t<a href=\"#\" class=\"btn btn-flat white modal-close\">Cancel</a> &nbsp;\\n\\t\\t\\t\\t\\t\\t<a href=\"#\" class=\"waves-effect waves-blue blue btn btn-flat modal-action modal-close\">Login</a>\\n\\t\\t\\t\\t\\t</p>\\n\\t\\t\\t\\t\\t\\n\\t\\t\\t\\t\\t\\n\\t\\t\\t\\t</div>\\n\\t\\t\\t</div>\\n\\t\\t</div>\\n\\n\\n\\n\\t\\t<!--Register modal-->\\n\\t\\t\\n\\t\\t<div id=\"modalRegister\" class=\"modal\">\\n\\t\\t\\t<div class=\"modal-content\">\\n\\t\\t\\t\\t<h2 class=\"center-align\">Sign up</h2>\\n\\t\\t\\t\\t<div class=\"center-align\">\\n\\t\\t\\t\\t\\t<div class=\"divider\"></div>\\n\\t\\t\\t\\t\\t\\n\\t\\t\\t\\t\\t<form action=\"/register/\" method=post >\\n\\t\\t\\t\\t\\t\\t\\t<div class=\"input-field col\">\\n\\t\\t\\t\\t\\t\\t\\t\\t<input id=\"username\" type=\"text\" class=\"validate\">\\n\\t\\t\\t\\t\\t\\t\\t\\t<label for=\"username\">Username</label>\\n\\t\\t\\t\\t\\t\\t\\t</div>\\n\\t\\t\\t\\t\\t\\t\\t<div class=\"input-field col\">\\n\\t\\t\\t\\t\\t\\t\\t\\t<input id=\"password\" type=\"password\" class=\"validate\">\\n\\t\\t\\t\\t\\t\\t\\t\\t<label for=\"password\">Password</label>\\n\\t\\t\\t\\t\\t\\t\\t</div>\\n\\t\\t\\t\\t\\t\\t\\t<div class=\"input-field col\">\\n\\t\\t\\t\\t\\t\\t\\t\\t<input id=\"confirm\" type=\"password\" class=\"validate\">\\n\\t\\t\\t\\t\\t\\t\\t\\t<label for=\"confirm\">Repeat Password</label>\\n\\t\\t\\t\\t\\t\\t\\t</div>\\n\\t\\t\\t\\t\\t\\t\\t\\n\\t\\t\\t\\t\\t\\t\\t<div class=\"input-field col\">\\n\\t\\t\\t\\t\\t\\t\\t\\t<input id=\"email\" type=\"text\" class=\"validate\">\\n\\t\\t\\t\\t\\t\\t\\t\\t<label for=\"email\">Email</label>\\n\\t\\t\\t\\t\\t\\t\\t</div>\\n\\n\\t\\t\\t\\t\\t\\t\\t<div class=\"divider\"></div>\\n\\t\\t\\t\\t\\t\\t\\t<p>\\n\\t\\t\\t\\t\\t\\t\\t\\t<a href=\"#\" class=\"btn btn-flat white modal-close\">Cancel</a> &nbsp;\\n\\t\\t\\t\\t\\t\\t\\t\\t<button class=\"btn\" type=submit value=Register>Sign Up</button>\\n\\t\\t\\t\\t\\t\\t\\t</p>\\n\\n\\t\\t\\t\\t\\t</form>\\n\\n\\t\\t\\t\\t\\t\\n\\n\\t\\t\\t\\t</div>\\n\\t\\t\\t</div>\\n\\t\\t</div>\\n\\n\\n\\n\\n\\t\\t<script>\\n\\t\\t\\t$(document).ready(function(){\\n\\t\\t\\t\\t$(\".button-collapse\").sideNav();\\n\\t\\t\\t\\t$(\\'.modal-trigger\\').leanModal();\\n\\t\\t\\t\\t$(\\'.collapsible\\').collapsible({\\n\\t\\t\\t\\t  accordion : false // A setting that changes the collapsible behavior to expandable instead of the default accordion style\\n\\t\\t\\t\\t});\\n\\t\\t\\t\\t$(\\'#aside\\').pushpin({ top:110, bottom:500 });\\n\\t\\t  });\\n\\t\\t</script>\\n\\t\\t<script>\\n\\t\\t  $(document).ready(function(){\\n\\t\\t\\t$(\\'.collapsible\\').collapsible({\\n\\t\\t\\t  accordion : false // A setting that changes the collapsible behavior to expandable instead of the default accordion style\\n\\t\\t\\t});\\n\\t\\t\\t$(\\'select\\').material_select();\\n\\t\\t  });\\n\\t  </script>\\n\\t  <script>\\n\\t\\tfunction goBack() {\\n\\t\\t\\twindow.history.back()\\n\\t\\t}\\n\\t</script>\\n\\t\\t<script type=\"text/javascript\" src=\"/static/js/run_prettify.js\"></script>\\n\\n\\t</body>\\n\\n<footer class=\"page-footer\">\\n          <div class=\"container\">\\n            <div class=\"row\">\\n              <div class=\"col l6 s12\">\\n                <h5 class=\"white-text\">You\\'ve reached the end!</h5>\\n\\n                <p class=\"grey-text text-lighten-4\">Contact: Harrison@pythonprogramming.net.</p>\\n                <ul>\\n                  <li><a class=\"grey-text text-lighten-3\" href=\"/support-donate/\">Support this Website!</a></li>\\n                  <li><a class=\"grey-text text-lighten-3\" href=\"/consulting/\">Hire me</a></li>\\n                  <li><a class=\"grey-text text-lighten-3\" href=\"https://www.facebook.com/pythonprogramming.net/\">Facebook</a></li>\\n                  <li><a class=\"grey-text text-lighten-3\" href=\"https://twitter.com/sentdex\">Twitter</a></li>\\n                  <li><a class=\"grey-text text-lighten-3\" href=\"https://plus.google.com/+sentdex\">Google+</a></li>\\n                </ul>\\n              </div>\\n              <div class=\"col l4 offset-l2 s12\">\\n                <h6 class=\"white-text\">Legal stuff:</h6>\\n                <ul>\\n                  <li><a class=\"grey-text text-lighten-3\" href=\"/about/tos/\">Terms and Conditions</a></li>\\n                  <li><a class=\"grey-text text-lighten-3\" href=\"/about/privacy-policy/\">Privacy Policy</a></li>\\n\\n                </ul>\\n              </div>\\n            </div>\\n          </div>\\n          <a href=\"https://xkcd.com/353/\" target=\\'blank\\'><p class=\"grey-text right\" style=\\'padding-right:10px\\'>Programming is a superpower.</p></a>\\n          <div class=\"footer-copyright\">\\n            <div class=\"container\">\\n            \\xc2\\xa9 OVER 9000! PythonProgramming.net\\n\\n            </div>\\n\\n          </div>\\n        </footer>\\n\\n</html>\\n\\n\\n\\n\\n\\n\\n\\n\\n\\n\\n\\n\\n\\n\\n'\n"
     ]
    }
   ],
   "source": [
    "# USING THE MODULE URLLIB\n",
    "\n",
    "import urllib.request\n",
    "import urllib.parse\n",
    "\n",
    "# x = urllib.request.urlopen(\"https://www.google.com\")\n",
    "# print(x.read())\n",
    "\n",
    "\n",
    "url = 'http://pythonprogramming.net'\n",
    "values = {'s':'basic',\n",
    "         'submit':'search'}\n",
    "\n",
    "data = urllib.parse.urlencode(values)    # THIS WILL ENCODE THE VALUES AS IT SHOULD BE IN URL OF 'BROWSERS'\n",
    "data = data.encode('utf-8')              # THIS 'utf-8' IS A TYPE OF ENCODING FORMAT\n",
    "req = urllib.request.Request(url,data)   # HERE WE ARE PASSING THE DATA IN urllib STANDARD LIBRARY , WHERE 'values IS ENCODED AS DATA IN utf-8 FORMAT'\n",
    "reap = urllib.request.urlopen(req)       # NOW HERE WE ARE VISITING THE SITE USING THE SAME SYNTAX AS IN THE 4TH LINR\n",
    "respData = reap.read()                   # HERE WE JUST READING THE SOURCE CODE OF THE SITE THAT WE ARE VISITING LIKE WE DID IN 4TH AND 5THH LINE\n",
    "\n",
    "print(respData)                          # NOW WE ARE JUST PRINTING OUT THE SOURCE CODE OF THE SITE\n",
    "\n",
    "\n",
    "\n",
    "\n"
   ]
  },
  {
   "cell_type": "code",
   "execution_count": null,
   "metadata": {},
   "outputs": [],
   "source": [
    "# URLLIB MODULE TUTORIALS CONTINUED\n",
    "import  urllib.request\n",
    "import urllib.parse\n",
    "\n",
    "try:\n",
    "    y = urllib.request.urlopen(\"https://www.google.com/search?q=test\")      # HERE GGOGLE WILL BLOCK OUR PYTHON AS WE ARE USING PYTHON TO ACCESS THERE SITE\n",
    "    print(y.read())                                                         \n",
    "except Exception as e: \n",
    "    print(str(e))\n",
    "\n",
    "try:\n",
    "    url = 'https://www.google.com/search?q=test'\n",
    "    headers = {}                                                           # HERE HEADER IS AN EMPTY DICTIONARY \n",
    "    headers['User-Agent'] = 'Mozilla/5.0 (Windows NT 10.0; Win64; x64) AppleWebKit/537.36 (KHTML, like Gecko) Chrome/64.0.3282.140 Safari/537.36 Edge/17.17134'         # THIS IS TO TRICK THE GOOGLES SITE THAT WE ARE REAL USERS AND NOT COMING THROUGH PYTHON\n",
    "    req = urllib.request.Request(url, headers = headers)                   # THIS IS TO PUT ON ALL THE HEADERS OUR USER AGENT SO THAT THE SITE WILL GET TRICKED \n",
    "    resp = urllib.request.urlopen(req)\n",
    "    respData = resp.read()\n",
    "\n",
    "    saveFile = open('withHeaders.txt','w')\n",
    "    saveFile.write(str(respData))\n",
    "    saveFile.close()\n",
    "\n",
    "except Exception as e :\n",
    "    print(str(e))\n"
   ]
  },
  {
   "cell_type": "code",
   "execution_count": 9,
   "metadata": {},
   "outputs": [
    {
     "name": "stdout",
     "output_type": "stream",
     "text": [
      "['15', '22', '97', '102']\n",
      "['Jessica', 'Nat', 'Edward', 'Carlile']\n",
      "{'Jessica': '15', 'Nat': '22', 'Edward': '97', 'Carlile': '102'}\n"
     ]
    }
   ],
   "source": [
    "# REGIUALR EXPRESSIONS \n",
    "'''\n",
    "IDENTIFERS:\n",
    "\\d any number\n",
    "\\D anything but number\n",
    "\\s space\n",
    "\\S anuthing but space\n",
    "\\w any character \n",
    "\\W anything but character\n",
    ".  any character , except for a newline\n",
    "\\b whitespace around characters\n",
    "\\. a period  \n",
    "\n",
    "\n",
    "MODIFERS:\n",
    "[1,3 ]  means we were expecting from 1 -3 \n",
    "+       Match  1 or more\n",
    "?       match  0 or 1 \n",
    "*       match 0 or more\n",
    "$       match the end of a string\n",
    "^       matching the beginning of a string\n",
    "|       either or  \" means \\d[1,5] |(or) \\w\"\n",
    "[]      range or \"variance\"\n",
    "[x]     expecting \"X \" amount\n",
    "\n",
    "WHITE SPACE CHARACTERS :\n",
    "\\n new line\n",
    "\\s space\n",
    "\\t tab\n",
    "\\e escape\n",
    "\\f form feed\n",
    "\\r return \n",
    "\n",
    "'''\n",
    "import re\n",
    "\n",
    "exampleString = '''\n",
    "Jessica is 15 years old , but his brother Nat is 22 years old.\n",
    "Edward is 97 years old and his grandfather Carlile is 102 years old.\n",
    "'''\n",
    "\n",
    "age = re.findall(r'\\d{1,3}', exampleString)\n",
    "names = re.findall(r'[A-Z][a-z]*', exampleString)\n",
    "print(age)\n",
    "print(names)\n",
    "\n",
    "# CREATING A DICTIONARY\n",
    "\n",
    "agedict =  {}\n",
    "x = 0\n",
    "for eachName in names:\n",
    "    agedict[eachName] = age[x]\n",
    "    x += 1\n",
    "\n",
    "print(agedict)\n"
   ]
  },
  {
   "cell_type": "code",
   "execution_count": 18,
   "metadata": {},
   "outputs": [
    {
     "name": "stdout",
     "output_type": "stream",
     "text": [
      "Learn how to use Python with Pandas, Matplotlib, and other modules to gather insights from and about your data.\n",
      "Control hardware with Python programming and the Raspberry Pi.\n",
      "How to develop websites with either the Flask or Django frameworks for Python.\n",
      "Create your own games with Python\\'s PyGame library, or check out the multi-platform Kivy.\n",
      "Learn the basic and intermediate Python fundamentals.\n",
      "Just getting started?\n",
      "Not a problem, learn the basics of programming with Python 3 here!\n",
      "Creating various software bots, like bots in games, in chats, and to interact with the web. Not to be confused with robotics!\n",
      "Create software with a user interface using Tkinter, PyQt, or Kivy.\n",
      "Curious about more than just Python? While not covered in nearly as much depth, here are some tutorials in other languages:\n",
      "Go is a programming language aimed at being simple, easy to work with, and capable of high performance.\n",
      "\\n\\t\\t\\t\\t\\t\\t<a href=\"#\" class=\"btn btn-flat white modal-close\">Cancel</a> &nbsp;\\n\\t\\t\\t\\t\\t\\t<a href=\"#\" class=\"waves-effect waves-blue blue btn btn-flat modal-action modal-close\">Login</a>\\n\\t\\t\\t\\t\\t\n",
      "\\n\\t\\t\\t\\t\\t\\t\\t\\t<a href=\"#\" class=\"btn btn-flat white modal-close\">Cancel</a> &nbsp;\\n\\t\\t\\t\\t\\t\\t\\t\\t<button class=\"btn\" type=submit value=Register>Sign Up</button>\\n\\t\\t\\t\\t\\t\\t\\t\n"
     ]
    }
   ],
   "source": [
    "# PARSING WEBSITES BY A COMBINATION OF urllib AND re (REGULAR EXPRESSIONS)\n",
    "\n",
    "import urllib.request\n",
    "import urllib.parse\n",
    "import re\n",
    "\n",
    "url = 'http://pythonprogramming.net'\n",
    "values = {'s':'basics',\n",
    "          'submit':'search'}\n",
    "data = urllib.parse.urlencode(values)\n",
    "data = data.encode('utf-8')\n",
    "req = urllib.request.Request(url,data)\n",
    "resp = urllib.request.urlopen(req)\n",
    "respdata = resp.read()\n",
    "\n",
    "#print(respdata)\n",
    "\n",
    "paragraphs = re.findall(r'<p>(.*?)</p>',str(respdata))      # THIS PART TELLS US ABOUT THE REGULAR EXPRESSIONS \n",
    "\n",
    "for everyp  in paragraphs:\n",
    "    print(everyp) \n",
    "\n"
   ]
  },
  {
   "cell_type": "code",
   "execution_count": 28,
   "metadata": {},
   "outputs": [
    {
     "ename": "FileNotFoundError",
     "evalue": "[Errno 2] No such file or directory: 'Downloads/Income.csv'",
     "output_type": "error",
     "traceback": [
      "\u001b[1;31m---------------------------------------------------------------------------\u001b[0m",
      "\u001b[1;31mFileNotFoundError\u001b[0m                         Traceback (most recent call last)",
      "\u001b[1;32m<ipython-input-28-d004b147bde0>\u001b[0m in \u001b[0;36m<module>\u001b[1;34m()\u001b[0m\n\u001b[0;32m      3\u001b[0m \u001b[1;32mimport\u001b[0m \u001b[0mcsv\u001b[0m\u001b[1;33m\u001b[0m\u001b[0m\n\u001b[0;32m      4\u001b[0m \u001b[1;33m\u001b[0m\u001b[0m\n\u001b[1;32m----> 5\u001b[1;33m \u001b[1;32mwith\u001b[0m \u001b[0mopen\u001b[0m\u001b[1;33m(\u001b[0m\u001b[1;34m'Downloads/Income.csv'\u001b[0m\u001b[1;33m)\u001b[0m \u001b[1;32mas\u001b[0m \u001b[0mcsvFile\u001b[0m\u001b[1;33m:\u001b[0m\u001b[1;33m\u001b[0m\u001b[0m\n\u001b[0m\u001b[0;32m      6\u001b[0m     \u001b[0mreadCSV\u001b[0m \u001b[1;33m=\u001b[0m \u001b[0mcsv\u001b[0m\u001b[1;33m.\u001b[0m\u001b[0mreader\u001b[0m\u001b[1;33m(\u001b[0m\u001b[0mcsvFile\u001b[0m\u001b[1;33m,\u001b[0m \u001b[0mdelimiter\u001b[0m \u001b[1;33m=\u001b[0m\u001b[1;34m','\u001b[0m\u001b[1;33m)\u001b[0m\u001b[1;33m\u001b[0m\u001b[0m\n\u001b[0;32m      7\u001b[0m \u001b[1;33m\u001b[0m\u001b[0m\n",
      "\u001b[1;31mFileNotFoundError\u001b[0m: [Errno 2] No such file or directory: 'Downloads/Income.csv'"
     ]
    }
   ],
   "source": [
    "# HOW TO READ A CSV FILE IN PYTHON\n",
    "# THIS PROGRAM WONT WORK AS FILE LOCATIONS IS NOT PROPER\n",
    "# TRY THIS IN PYCHARM\n",
    "# RUN THIS PROGRAM ON PYCHARM AS 'Senti,csv ' IS NOI AVAILABLE OVER HERE\n",
    "\n",
    "import csv\n",
    "\n",
    "with open('Senti.csv') as csvFile:\n",
    "    readCSV = csv.reader(csvFile, delimiter =',')\n",
    "\n",
    "    for row in readCSV:\n",
    "        print(row)\n"
   ]
  },
  {
   "cell_type": "code",
   "execution_count": 1,
   "metadata": {},
   "outputs": [
    {
     "ename": "FileNotFoundError",
     "evalue": "[Errno 2] No such file or directory: 'Senti.csv'",
     "output_type": "error",
     "traceback": [
      "\u001b[1;31m---------------------------------------------------------------------------\u001b[0m",
      "\u001b[1;31mFileNotFoundError\u001b[0m                         Traceback (most recent call last)",
      "\u001b[1;32m<ipython-input-1-8e4e359bc74b>\u001b[0m in \u001b[0;36m<module>\u001b[1;34m()\u001b[0m\n\u001b[0;32m      3\u001b[0m \u001b[1;32mimport\u001b[0m \u001b[0mcsv\u001b[0m\u001b[1;33m\u001b[0m\u001b[0m\n\u001b[0;32m      4\u001b[0m \u001b[1;33m\u001b[0m\u001b[0m\n\u001b[1;32m----> 5\u001b[1;33m \u001b[1;32mwith\u001b[0m \u001b[0mopen\u001b[0m\u001b[1;33m(\u001b[0m\u001b[1;34m'Senti.csv'\u001b[0m\u001b[1;33m)\u001b[0m \u001b[1;32mas\u001b[0m \u001b[0mcsvFile\u001b[0m\u001b[1;33m:\u001b[0m\u001b[1;33m\u001b[0m\u001b[0m\n\u001b[0m\u001b[0;32m      6\u001b[0m     \u001b[0mreadCSV\u001b[0m \u001b[1;33m=\u001b[0m \u001b[0mcsv\u001b[0m\u001b[1;33m.\u001b[0m\u001b[0mreader\u001b[0m\u001b[1;33m(\u001b[0m\u001b[0mcsvFile\u001b[0m\u001b[1;33m,\u001b[0m \u001b[0mdelimiter\u001b[0m \u001b[1;33m=\u001b[0m\u001b[1;34m','\u001b[0m\u001b[1;33m)\u001b[0m\u001b[1;33m\u001b[0m\u001b[0m\n\u001b[0;32m      7\u001b[0m \u001b[1;33m\u001b[0m\u001b[0m\n",
      "\u001b[1;31mFileNotFoundError\u001b[0m: [Errno 2] No such file or directory: 'Senti.csv'"
     ]
    }
   ],
   "source": [
    "# HOW TO READ A CSV FILE IN PYTHON\n",
    "# RUN THIS PROGRAM ON PYCHARM AS 'Senti,csv ' IS NOI AVAILABLE OVER HERE\n",
    "\n",
    "import csv\n",
    "\n",
    "with open('Senti.csv') as csvFile:\n",
    "    readCSV = csv.reader(csvFile, delimiter =',')\n",
    "    \n",
    "    for row in readCSV:\n",
    "        print(row)\n",
    "        print(row[0])\n",
    "        print(row[0] + '  ,' + row[1])\n"
   ]
  },
  {
   "cell_type": "code",
   "execution_count": null,
   "metadata": {},
   "outputs": [],
   "source": [
    "# HOW TO READ A CSV FILE IN PYTHON\n",
    "# THESE ARE DIFFERENT TECHNIQUES FOR IMPORTING CSV\n",
    "# RUN THIS PROGRAM ON PYCHARM AS 'Senti,csv ' IS NOI AVAILABLE OVER HERE\n",
    "\n",
    "import csv\n",
    "\n",
    "with open('Senti.csv') as csvFile:\n",
    "    readCSV = csv.reader(csvFile, delimiter =',')\n",
    "    numbers = []\n",
    "    reviews = []\n",
    "    for row in readCSV:\n",
    "        number = row[0]\n",
    "        review = row[1]\n",
    "\n",
    "        numbers.append(number)\n",
    "        review.append(reviews)\n",
    "\n",
    "    print(numbers)\n",
    "    print(reviews)\n",
    "    print(number)\n",
    "    print(review)"
   ]
  },
  {
   "cell_type": "code",
   "execution_count": null,
   "metadata": {},
   "outputs": [],
   "source": [
    "# HOW TO READ A CSV FILE IN PYTHON\n",
    "# THIS PROGRAM TAKES OUTPUT OF 2 DIFFERENT ROWS AND SAVES IT AND WE CAN DO SOME TRICKS WITH IT\n",
    "# RUN THIS PROGRAM ON PYCHARM AS 'Senti,csv ' IS NOI AVAILABLE OVER HERE\n",
    "\n",
    "import csv\n",
    "\n",
    "with open('Senti.csv') as csvFile:\n",
    "    readCSV = csv.reader(csvFile, delimiter =',')\n",
    "    numbers = []\n",
    "    review = []\n",
    "    for row in readCSV:\n",
    "        number = row[0]\n",
    "        reviews = row[1]\n",
    "\n",
    "        numbers.append(number)\n",
    "        review.append(reviews)\n",
    "\n",
    "    print(numbers)\n",
    "    print(review)\n",
    "\n",
    "    whatindex = input(\"Enter the index of which you wanna see the review\")\n",
    "    preview = whatindex\n",
    "\n",
    "    print(\"The review at the particular index is \" + review[int(whatindex)])\n"
   ]
  },
  {
   "cell_type": "code",
   "execution_count": 12,
   "metadata": {},
   "outputs": [
    {
     "name": "stdout",
     "output_type": "stream",
     "text": [
      "15, 16gb, 1TB\n",
      "15, 16gb, 1TB\n",
      "15, 16gb, 1TB\n",
      "15, 16gb, 1TB\n",
      "4\n"
     ]
    }
   ],
   "source": [
    "# TELUSKO PYTHON BASIC PART IN BETWEEN \n",
    "\n",
    "class Computer:\n",
    "    \n",
    "    def Config(self):\n",
    "        print(\"15, 16gb, 1TB\")\n",
    "        \n",
    "    def difconfig(self):\n",
    "        print('second object')\n",
    "\n",
    "        \n",
    "comp1 = Computer()            # this is creating the object of method in the class\n",
    "comp2 = Computer()\n",
    "\n",
    "Computer.Config(comp1)        # this is like saying the address of the method that we wanna excute\n",
    "Computer.Config(comp2)\n",
    "\n",
    "comp1.Config()                # this is just like java using the object to call the method (function)\n",
    "comp2.Config()\n",
    "\n",
    "a = 8 \n",
    "print(a.bit_length())\n"
   ]
  },
  {
   "cell_type": "code",
   "execution_count": 15,
   "metadata": {},
   "outputs": [
    {
     "name": "stdout",
     "output_type": "stream",
     "text": [
      "1\n"
     ]
    }
   ],
   "source": [
    "a = 8\n",
    "print(a.bit_length())             # it deternmines the bit length of the number given ( in this case THE BIT NUMBER OF 8 = 1000 i.e 4 )\n"
   ]
  },
  {
   "cell_type": "code",
   "execution_count": 17,
   "metadata": {},
   "outputs": [
    {
     "name": "stdout",
     "output_type": "stream",
     "text": [
      "They are different\n",
      "Naveen\n",
      "Naveen\n"
     ]
    }
   ],
   "source": [
    "# CONSTRUCTOR AND INIT BY TELUSKO\n",
    "\n",
    "class computer:\n",
    "    \n",
    "    def __init__(self):\n",
    "        self.name = 'Naveen'\n",
    "        self.age = 28\n",
    "        \n",
    "    def update(self):\n",
    "        self.age = 30\n",
    "    \n",
    "    def compare(self, other):\n",
    "        if self.age == other.age:\n",
    "            return True\n",
    "        else:\n",
    "            return False\n",
    "    \n",
    "c1 = computer()\n",
    "c1.age = 40\n",
    "c2 = computer()\n",
    "\n",
    "if c1.compare(c2):\n",
    "    print(\"They are same\")\n",
    "else:\n",
    "    print(\"They are different\")\n",
    "    \n",
    "print(c1.name)\n",
    "print(c2.name)\n",
    "\n",
    "\n",
    "\n",
    "    \n",
    "    \n",
    "c1 = computer()"
   ]
  },
  {
   "cell_type": "code",
   "execution_count": 18,
   "metadata": {},
   "outputs": [
    {
     "ename": "SyntaxError",
     "evalue": "unexpected EOF while parsing (<ipython-input-18-cfb0739f48e6>, line 5)",
     "output_type": "error",
     "traceback": [
      "\u001b[1;36m  File \u001b[1;32m\"<ipython-input-18-cfb0739f48e6>\"\u001b[1;36m, line \u001b[1;32m5\u001b[0m\n\u001b[1;33m    def __init__(self):\u001b[0m\n\u001b[1;37m                       ^\u001b[0m\n\u001b[1;31mSyntaxError\u001b[0m\u001b[1;31m:\u001b[0m unexpected EOF while parsing\n"
     ]
    }
   ],
   "source": [
    "# Different types of VARIABLES\n",
    "\n",
    "class car:\n",
    "    \n",
    "    def __init__(self):\n",
    "        self.mil = 10\n",
    "        self.age = 'BMW'\n",
    "    \n",
    "c1 = car()\n",
    "c2 = car()\n",
    "\n",
    "c1.mil = 8\n",
    "\n",
    "age.wheels = "
   ]
  },
  {
   "cell_type": "code",
   "execution_count": null,
   "metadata": {},
   "outputs": [],
   "source": []
  }
 ],
 "metadata": {
  "kernelspec": {
   "display_name": "Python 3",
   "language": "python",
   "name": "python3"
  },
  "language_info": {
   "codemirror_mode": {
    "name": "ipython",
    "version": 3
   },
   "file_extension": ".py",
   "mimetype": "text/x-python",
   "name": "python",
   "nbconvert_exporter": "python",
   "pygments_lexer": "ipython3",
   "version": "3.7.1"
  }
 },
 "nbformat": 4,
 "nbformat_minor": 2
}
