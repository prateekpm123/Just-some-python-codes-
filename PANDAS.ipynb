{
 "cells": [
  {
   "cell_type": "markdown",
   "metadata": {},
   "source": [
    "## Pandas deals with the following three data structures −\n",
    "\n",
    "    Series\n",
    "    DataFrame\n",
    "    Panel\n",
    "These data structures are built on top of Numpy array, which means they are fast.\n",
    "\n",
    "## Dimension & Description\n",
    "The best way to think of these data structures is that the higher dimensional data structure is a container of its lower dimensional data structure. For example, DataFrame is a container of Series, Panel is a container of DataFrame.\n",
    "\n",
    "## Series\n",
    "Series is a one-dimensional array like structure with homogeneous data. For example, the following series is a collection of integers 10, 23, 56, …\n",
    "\n",
    "   ### Key Points\n",
    "    Homogeneous data\n",
    "    Size Immutable\n",
    "    Values of Data Mutable\n",
    "    \n",
    "## DataFrame\n",
    "DataFrame is a two-dimensional array with heterogeneous data. For example,\n",
    "\n",
    "   ### Key Points\n",
    "    Heterogeneous data\n",
    "    Size Mutable\n",
    "    Data Mutable\n",
    "    \n",
    "## Panel\n",
    "Panel is a three-dimensional data structure with heterogeneous data. It is hard to represent the panel in graphical representation. But a panel can be illustrated as a container of DataFrame.\n",
    "\n",
    "   \n",
    "   ### Key Points\n",
    "    Heterogeneous data\n",
    "    Size Mutable\n",
    "    Data Mutable"
   ]
  },
  {
   "cell_type": "markdown",
   "metadata": {},
   "source": [
    "## pandas.Series\n",
    "A pandas Series can be created using the following constructor −"
   ]
  },
  {
   "cell_type": "code",
   "execution_count": 3,
   "metadata": {},
   "outputs": [
    {
     "name": "stdout",
     "output_type": "stream",
     "text": [
      "0    a\n",
      "1    b\n",
      "2    c\n",
      "3    d\n",
      "dtype: object\n"
     ]
    }
   ],
   "source": [
    "# pandas.Series( data, index, dtype, copy)\n",
    "\n",
    "# data:    data takes various forms like ndarray, list, constants\n",
    "# index:   Index values must be unique and hashable, same length as data. \n",
    "#          Default np.arrange(n) if no index is passed.\n",
    "# dtype:   dtype is for data type. If None, data type will be inferred\n",
    "# copy:    Copy data. Default False\n",
    "\n",
    "import pandas as pd\n",
    "import numpy as np\n",
    "\n",
    "a =np.array(['a','b','c','d'])\n",
    "s = pd.Series(a)\n",
    "print(s)"
   ]
  },
  {
   "cell_type": "code",
   "execution_count": 20,
   "metadata": {},
   "outputs": [
    {
     "name": "stdout",
     "output_type": "stream",
     "text": [
      "Printing using array indexes\n",
      "\n",
      " 2\n",
      "\n",
      "\n",
      "printing using indexes mentioned in the Series attributes\n",
      "\n",
      " d    4\n",
      "a    1\n",
      "dtype: int64\n",
      "\n",
      "\n",
      "using slice operator for printing\n",
      "\n",
      " c    3\n",
      "d    4\n",
      "dtype: int64\n"
     ]
    }
   ],
   "source": [
    "sa = pd.Series([1,2,3,4,5], index=['a','b','c','d','e'])\n",
    "\n",
    "# \"Printing using array indexes\n",
    "print(\"Printing using array indexes\\n\\n\",sa[1])\n",
    "\n",
    "# \"printing using indexes mentioned in the Series attributes\"\n",
    "print(\"\\n\\nprinting using indexes mentioned in the Series attributes\\n\\n\",sa[['d','a']])\n",
    "\n",
    "# using slice operator for printing\n",
    "print(\"\\n\\nusing slice operator for printing\\n\\n\",sa[2:4])"
   ]
  },
  {
   "cell_type": "markdown",
   "metadata": {},
   "source": [
    "## A Data frame is a two-dimensional data structure, i.e., data is aligned in a tabular fashion in rows and columns.\n",
    "\n",
    "### Features of DataFrame\n",
    "    Potentially columns are of different types\n",
    "    Size – Mutable\n",
    "    Labeled axes (rows and columns)\n",
    "    Can Perform Arithmetic operations on rows and columns\n",
    "    \n",
    "\n",
    "## pandas.DataFrame\n",
    "A pandas DataFrame can be created using the following constructor −"
   ]
  },
  {
   "cell_type": "code",
   "execution_count": 21,
   "metadata": {},
   "outputs": [
    {
     "name": "stdout",
     "output_type": "stream",
     "text": [
      "    Name  Age\n",
      "0   Alex   23\n",
      "1  Danny   24\n"
     ]
    }
   ],
   "source": [
    "# pandas.DataFrame( data, index, columns, dtype, copy)\n",
    "\n",
    "# columns: For column labels, the optional default syntax is - np.arrange(n). \n",
    "#          This is only true if no index is passed.\n",
    "# copy:    This command (or whatever it is) is used for copying of data, if the default is False.\n",
    "\n",
    "\n",
    "# here data acts like rows and columns attribute acts like columns ex: Name and age\n",
    "data = [['Alex',23],['Danny',24]]\n",
    "df = pd.DataFrame(data, columns=['Name','Age'])\n",
    "print(df)"
   ]
  },
  {
   "cell_type": "markdown",
   "metadata": {},
   "source": [
    "## Create a DataFrame from Dict of ndarrays / Lists\n",
    "All the ndarrays must be of same length. If index is passed, then the length of the index should equal to the length of the arrays.\n",
    "\n",
    "If no index is passed, then by default, index will be range(n), where n is the array length."
   ]
  },
  {
   "cell_type": "code",
   "execution_count": 25,
   "metadata": {},
   "outputs": [
    {
     "name": "stdout",
     "output_type": "stream",
     "text": [
      "         Name   Age\n",
      "0         Tom  23.0\n",
      "1       Jerry  34.0\n",
      "2        Jack  43.0\n",
      "3  Shakespare  12.0\n"
     ]
    }
   ],
   "source": [
    "# basically we write here data column wise in the above example we can do that row wise\n",
    "\n",
    "data = {'Name': ['Tom','Jerry','Jack','Shakespare'], 'Age': [23,34,43,12]}\n",
    "df = pd.DataFrame(data, dtype= float)\n",
    "print(df)"
   ]
  },
  {
   "cell_type": "code",
   "execution_count": 27,
   "metadata": {},
   "outputs": [
    {
     "name": "stdout",
     "output_type": "stream",
     "text": [
      "        Name  Age\n",
      "rank1    Tom   28\n",
      "rank2   Jack   34\n",
      "rank3  Steve   29\n",
      "rank4  Ricky   42\n"
     ]
    }
   ],
   "source": [
    "# here we customize of our index by rank1, rank2 etc\n",
    "\n",
    "data = {'Name':['Tom', 'Jack', 'Steve', 'Ricky'],'Age':[28,34,29,42]}\n",
    "df = pd.DataFrame(data, index=['rank1','rank2','rank3','rank4'])\n",
    "print(df)"
   ]
  },
  {
   "cell_type": "code",
   "execution_count": 30,
   "metadata": {},
   "outputs": [
    {
     "name": "stdout",
     "output_type": "stream",
     "text": [
      "        a  b    c\n",
      "first   1  2  NaN\n",
      "second  3  4  5.0\n"
     ]
    }
   ],
   "source": [
    "# here we write our data using dictionaries\n",
    "\n",
    "data = [{'a': 1,'b': 2},{'a':3, 'b':4, 'c':5}]\n",
    "\n",
    "df = pd.DataFrame(data, index=['first', 'second'] )\n",
    "print(df)"
   ]
  },
  {
   "cell_type": "code",
   "execution_count": 31,
   "metadata": {},
   "outputs": [
    {
     "name": "stdout",
     "output_type": "stream",
     "text": [
      "        a   b\n",
      "first   1   2\n",
      "second  5  10\n",
      "        a  b1\n",
      "first   1 NaN\n",
      "second  5 NaN\n"
     ]
    }
   ],
   "source": [
    "# The following example shows how to create a DataFrame with a list of dictionaries, row indices, and column indices.\n",
    "\n",
    "import pandas as pd\n",
    "data = [{'a': 1, 'b': 2},{'a': 5, 'b': 10, 'c': 20}]\n",
    "\n",
    "#With two column indices, values same as dictionary keys\n",
    "df1 = pd.DataFrame(data, index=['first', 'second'], columns=['a', 'b'])\n",
    "\n",
    "#With two column indices with one index with other name\n",
    "df2 = pd.DataFrame(data, index=['first', 'second'], columns=['a', 'b1'])\n",
    "print(df1)\n",
    "print(df2)"
   ]
  },
  {
   "cell_type": "code",
   "execution_count": 39,
   "metadata": {},
   "outputs": [
    {
     "name": "stdout",
     "output_type": "stream",
     "text": [
      "   one   two\n",
      "a  2.0   NaN\n",
      "b  3.0   NaN\n",
      "c  4.0   NaN\n",
      "d  5.0   NaN\n",
      "0  NaN  23.0\n",
      "1  NaN  34.0\n",
      "2  NaN  24.0\n",
      "3  NaN  54.0\n"
     ]
    }
   ],
   "source": [
    "# creating dataframe using a combination of dictionaries and Series\n",
    "\n",
    "data = {'one': pd.Series([2,3,4,5] , index = ['a','b','c','d']),\n",
    "        'two': pd.Series([23,34,24,54]) }\n",
    "df = pd.DataFrame(data)\n",
    "print(df)"
   ]
  },
  {
   "cell_type": "code",
   "execution_count": null,
   "metadata": {},
   "outputs": [],
   "source": []
  }
 ],
 "metadata": {
  "kernelspec": {
   "display_name": "Python 3",
   "language": "python",
   "name": "python3"
  },
  "language_info": {
   "codemirror_mode": {
    "name": "ipython",
    "version": 3
   },
   "file_extension": ".py",
   "mimetype": "text/x-python",
   "name": "python",
   "nbconvert_exporter": "python",
   "pygments_lexer": "ipython3",
   "version": "3.7.1"
  }
 },
 "nbformat": 4,
 "nbformat_minor": 2
}
